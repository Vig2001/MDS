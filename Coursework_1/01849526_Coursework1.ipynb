{
 "cells": [
  {
   "cell_type": "markdown",
   "metadata": {
    "id": "J_tuTOB-IXlx"
   },
   "source": [
    "# Methods for Data Science: Course Work 1"
   ]
  },
  {
   "cell_type": "markdown",
   "metadata": {
    "id": "T1bWLmzoIgFu"
   },
   "source": [
    "## Task 1:  Regression (50 marks)"
   ]
  },
  {
   "cell_type": "markdown",
   "metadata": {
    "id": "pQjZo6g6MVNH"
   },
   "source": [
    "#### 1.1 Linear regression (8 marks)  \n",
    "\n",
    "1.1.1"
   ]
  },
  {
   "cell_type": "code",
   "execution_count": 1,
   "metadata": {
    "id": "J-q1QFQFIfF0"
   },
   "outputs": [],
   "source": [
    "import numpy as np\n",
    "import matplotlib.pyplot as plt\n",
    "import pandas as pd\n",
    "from collections import defaultdict\n",
    "import seaborn as sns"
   ]
  },
  {
   "cell_type": "markdown",
   "metadata": {},
   "source": [
    "Below are functions which we repeatedly use throughout this notebook."
   ]
  },
  {
   "cell_type": "code",
   "execution_count": 2,
   "metadata": {},
   "outputs": [],
   "source": [
    "# We might need to standardise our data so we define a function standardise.\n",
    "\n",
    "def standardise(X):\n",
    "    mu = np.mean(X, axis=0)\n",
    "    sigma = np.std(X, axis=0)\n",
    "    return (X - mu) / sigma"
   ]
  },
  {
   "cell_type": "code",
   "execution_count": 3,
   "metadata": {},
   "outputs": [],
   "source": [
    "# We need to split the data in cross-validation\n",
    "\n",
    "def cross_val_split(N, num_folds):\n",
    "    fold_size = N // num_folds\n",
    "    index_perm = np.random.permutation(np.arange(N))\n",
    "    folds = []\n",
    "    for k in range(num_folds):\n",
    "        folds.append(index_perm[k*fold_size:(k+1)*fold_size])\n",
    "    return folds"
   ]
  },
  {
   "cell_type": "code",
   "execution_count": 4,
   "metadata": {},
   "outputs": [
    {
     "data": {
      "text/html": [
       "<div>\n",
       "<style scoped>\n",
       "    .dataframe tbody tr th:only-of-type {\n",
       "        vertical-align: middle;\n",
       "    }\n",
       "\n",
       "    .dataframe tbody tr th {\n",
       "        vertical-align: top;\n",
       "    }\n",
       "\n",
       "    .dataframe thead th {\n",
       "        text-align: right;\n",
       "    }\n",
       "</style>\n",
       "<table border=\"1\" class=\"dataframe\">\n",
       "  <thead>\n",
       "    <tr style=\"text-align: right;\">\n",
       "      <th></th>\n",
       "      <th>Frequency</th>\n",
       "      <th>Angle</th>\n",
       "      <th>Displacement</th>\n",
       "      <th>Chord length</th>\n",
       "      <th>Velocity</th>\n",
       "      <th>Thickness</th>\n",
       "      <th>Sound Pressure</th>\n",
       "    </tr>\n",
       "  </thead>\n",
       "  <tbody>\n",
       "    <tr>\n",
       "      <th>0</th>\n",
       "      <td>2175.611424</td>\n",
       "      <td>15.138865</td>\n",
       "      <td>21.075119</td>\n",
       "      <td>0.088194</td>\n",
       "      <td>66.764401</td>\n",
       "      <td>0.044771</td>\n",
       "      <td>122.365215</td>\n",
       "    </tr>\n",
       "    <tr>\n",
       "      <th>1</th>\n",
       "      <td>2962.923620</td>\n",
       "      <td>13.400893</td>\n",
       "      <td>13.200889</td>\n",
       "      <td>0.048462</td>\n",
       "      <td>78.221903</td>\n",
       "      <td>0.011041</td>\n",
       "      <td>129.296236</td>\n",
       "    </tr>\n",
       "    <tr>\n",
       "      <th>2</th>\n",
       "      <td>4430.810843</td>\n",
       "      <td>2.164599</td>\n",
       "      <td>13.959536</td>\n",
       "      <td>0.226743</td>\n",
       "      <td>57.053201</td>\n",
       "      <td>0.011499</td>\n",
       "      <td>121.827380</td>\n",
       "    </tr>\n",
       "    <tr>\n",
       "      <th>3</th>\n",
       "      <td>4939.695645</td>\n",
       "      <td>13.857682</td>\n",
       "      <td>18.203793</td>\n",
       "      <td>0.021705</td>\n",
       "      <td>23.896377</td>\n",
       "      <td>0.021475</td>\n",
       "      <td>114.998132</td>\n",
       "    </tr>\n",
       "    <tr>\n",
       "      <th>4</th>\n",
       "      <td>2193.979785</td>\n",
       "      <td>9.298757</td>\n",
       "      <td>11.007713</td>\n",
       "      <td>0.052737</td>\n",
       "      <td>38.917034</td>\n",
       "      <td>0.001741</td>\n",
       "      <td>125.639641</td>\n",
       "    </tr>\n",
       "    <tr>\n",
       "      <th>...</th>\n",
       "      <td>...</td>\n",
       "      <td>...</td>\n",
       "      <td>...</td>\n",
       "      <td>...</td>\n",
       "      <td>...</td>\n",
       "      <td>...</td>\n",
       "      <td>...</td>\n",
       "    </tr>\n",
       "    <tr>\n",
       "      <th>3885</th>\n",
       "      <td>3905.607276</td>\n",
       "      <td>9.799786</td>\n",
       "      <td>11.765429</td>\n",
       "      <td>0.028704</td>\n",
       "      <td>67.798053</td>\n",
       "      <td>0.004488</td>\n",
       "      <td>125.085653</td>\n",
       "    </tr>\n",
       "    <tr>\n",
       "      <th>3886</th>\n",
       "      <td>64.227331</td>\n",
       "      <td>2.707020</td>\n",
       "      <td>14.811376</td>\n",
       "      <td>0.235426</td>\n",
       "      <td>31.178047</td>\n",
       "      <td>0.001760</td>\n",
       "      <td>123.172927</td>\n",
       "    </tr>\n",
       "    <tr>\n",
       "      <th>3887</th>\n",
       "      <td>3284.747651</td>\n",
       "      <td>0.569689</td>\n",
       "      <td>0.340812</td>\n",
       "      <td>0.040439</td>\n",
       "      <td>49.229545</td>\n",
       "      <td>0.002682</td>\n",
       "      <td>134.214100</td>\n",
       "    </tr>\n",
       "    <tr>\n",
       "      <th>3888</th>\n",
       "      <td>5335.315242</td>\n",
       "      <td>5.525639</td>\n",
       "      <td>15.952651</td>\n",
       "      <td>0.197330</td>\n",
       "      <td>31.902680</td>\n",
       "      <td>0.008405</td>\n",
       "      <td>116.550551</td>\n",
       "    </tr>\n",
       "    <tr>\n",
       "      <th>3889</th>\n",
       "      <td>1334.882117</td>\n",
       "      <td>8.276053</td>\n",
       "      <td>14.560548</td>\n",
       "      <td>0.134638</td>\n",
       "      <td>63.902501</td>\n",
       "      <td>0.023547</td>\n",
       "      <td>123.960690</td>\n",
       "    </tr>\n",
       "  </tbody>\n",
       "</table>\n",
       "<p>3890 rows × 7 columns</p>\n",
       "</div>"
      ],
      "text/plain": [
       "        Frequency      Angle  Displacement  Chord length   Velocity  \\\n",
       "0     2175.611424  15.138865     21.075119      0.088194  66.764401   \n",
       "1     2962.923620  13.400893     13.200889      0.048462  78.221903   \n",
       "2     4430.810843   2.164599     13.959536      0.226743  57.053201   \n",
       "3     4939.695645  13.857682     18.203793      0.021705  23.896377   \n",
       "4     2193.979785   9.298757     11.007713      0.052737  38.917034   \n",
       "...           ...        ...           ...           ...        ...   \n",
       "3885  3905.607276   9.799786     11.765429      0.028704  67.798053   \n",
       "3886    64.227331   2.707020     14.811376      0.235426  31.178047   \n",
       "3887  3284.747651   0.569689      0.340812      0.040439  49.229545   \n",
       "3888  5335.315242   5.525639     15.952651      0.197330  31.902680   \n",
       "3889  1334.882117   8.276053     14.560548      0.134638  63.902501   \n",
       "\n",
       "      Thickness  Sound Pressure  \n",
       "0      0.044771      122.365215  \n",
       "1      0.011041      129.296236  \n",
       "2      0.011499      121.827380  \n",
       "3      0.021475      114.998132  \n",
       "4      0.001741      125.639641  \n",
       "...         ...             ...  \n",
       "3885   0.004488      125.085653  \n",
       "3886   0.001760      123.172927  \n",
       "3887   0.002682      134.214100  \n",
       "3888   0.008405      116.550551  \n",
       "3889   0.023547      123.960690  \n",
       "\n",
       "[3890 rows x 7 columns]"
      ]
     },
     "execution_count": 4,
     "metadata": {},
     "output_type": "execute_result"
    }
   ],
   "source": [
    "# Read in both train and test data.\n",
    "# The test_data will not be used in any in-sample learning !\n",
    "\n",
    "train_data = pd.read_csv(\"./airfoil_noise_samples.csv\")\n",
    "test_data = pd.read_csv(\"./airfoil_noise_test.csv\")\n",
    "train_data"
   ]
  },
  {
   "cell_type": "markdown",
   "metadata": {},
   "source": [
    "We consider a linear regression problem of the form\n",
    "$$\n",
    "y = \\boldsymbol X\\boldsymbol\\beta + \\epsilon\\,,\\quad \\epsilon \\sim \\mathcal N(0, \\sigma^2)\n",
    "$$\n",
    "where $\\boldsymbol X\\in\\mathbb{R}^{3890 \\times 7}$ are inputs and $y\\in\\mathbb{R}$ are noisy observations. The parameter vector $\\boldsymbol\\beta\\in\\mathbb{R}^7$ parametrizes the function.\n",
    "\n",
    "The intercept term $\\beta_{0}$ will be included by inserting a vector of ones as the first column of X."
   ]
  },
  {
   "cell_type": "code",
   "execution_count": 5,
   "metadata": {},
   "outputs": [],
   "source": [
    "# Construct the dataframes (i.e. vector y and design matrix X) and standardise them.\n",
    "# Standardising has many benefits, one being that it makes the data more comparable and easier to work with.\n",
    "# Note for linear models if we standardise the design matrix we must standardise the response variables.\n",
    "\n",
    "y_train = standardise(train_data.loc[:, \"Sound Pressure\"].to_numpy())\n",
    "X_train = standardise(train_data.iloc[:, 0:6].to_numpy())\n",
    "\n",
    "# Insert 1 at the start of every row for intercept beta_0\n",
    "X_train_intercept = np.hstack((np.ones((len(X_train),1)), X_train))"
   ]
  },
  {
   "cell_type": "markdown",
   "metadata": {},
   "source": [
    "From lectures we know that: \n",
    "\n",
    "$$\n",
    "\\boldsymbol\\beta^{*} = (\\boldsymbol X^T\\boldsymbol X)^{-1}\\boldsymbol X^T\\boldsymbol y \\ \\in\\mathbb{R}^D\\,,\n",
    "$$\n",
    "\n",
    "minimises the loss function. The factor of $\\frac{1}{2N}$ doesn't affect this result."
   ]
  },
  {
   "cell_type": "code",
   "execution_count": 6,
   "metadata": {},
   "outputs": [
    {
     "data": {
      "text/plain": [
       "array([-1.82520015e-15, -7.48825212e-01,  1.74766803e-01, -8.22786353e-01,\n",
       "       -1.64057258e-02,  3.61261966e-01, -2.84061615e-03])"
      ]
     },
     "execution_count": 6,
     "metadata": {},
     "output_type": "execute_result"
    }
   ],
   "source": [
    "# define function which computes the MLE given a design matrix and vector of response variables.\n",
    "\n",
    "def MLE(X, y):\n",
    "    \n",
    "    \"\"\"\"compute beta_MLE for a set of data.\n",
    "        inputs:\n",
    "        \n",
    "        y: vector length N\n",
    "        X: matrix size N x D\n",
    "        \n",
    "        returns:\n",
    "        beta_MLE: vector length D\"\"\"\n",
    "    \n",
    "    N = len(y)\n",
    "    X_pseudo = np.linalg.inv(X.T @ X) @ X.T\n",
    "    beta_MLE = X_pseudo @ y\n",
    "    return beta_MLE\n",
    "\n",
    "MLE(X_train_intercept, y_train)"
   ]
  },
  {
   "cell_type": "code",
   "execution_count": 7,
   "metadata": {},
   "outputs": [
    {
     "name": "stdout",
     "output_type": "stream",
     "text": [
      "The in-sample MSE and R^2 values are 0.08226560227369234 and 0.9177343977263077 respectively.\n"
     ]
    }
   ],
   "source": [
    "# Compute the in-sample MSE and R^2 for the dataset\n",
    "\n",
    "beta = MLE(X_train_intercept, y_train)\n",
    "y_pred = X_train_intercept @ beta\n",
    "y_bar = np.mean(y_train)\n",
    "\n",
    "MSE = np.mean((y_train - y_pred) ** 2)\n",
    "TSS = np.mean((y_train - y_bar) ** 2)\n",
    "\n",
    "R_2 = 1 - (MSE / TSS)\n",
    "\n",
    "print(\"The in-sample MSE and R^2 values are {} and {} respectively.\".format(MSE, R_2))"
   ]
  },
  {
   "cell_type": "markdown",
   "metadata": {
    "id": "P7Wy3sP5KtNE"
   },
   "source": [
    "1.1.2"
   ]
  },
  {
   "cell_type": "code",
   "execution_count": 8,
   "metadata": {
    "id": "rx5tgYQ4I0EF"
   },
   "outputs": [
    {
     "name": "stdout",
     "output_type": "stream",
     "text": [
      "The out-sample MSE and R^2 are 0.09139155601587617 and 0.9086084439841238 respectively.\n"
     ]
    }
   ],
   "source": [
    "# create test dataframes\n",
    "\n",
    "y_test = standardise(test_data.loc[:, \"Sound Pressure\"].to_numpy())\n",
    "X_test = standardise(test_data.iloc[:, 0:6].to_numpy())\n",
    "X_test_intercept = np.hstack((np.ones((len(X_test),1)), X_test ))\n",
    "\n",
    "y_pred_test = X_test_intercept @ beta\n",
    "y_bar_test = np.mean(y_test)\n",
    "\n",
    "MSE_test = np.mean((y_test - y_pred_test) ** 2)\n",
    "TSS_test = np.mean((y_test - y_bar_test) ** 2)\n",
    "\n",
    "R_2_test = 1 - (MSE_test / TSS_test)\n",
    "\n",
    "print(\"The out-sample MSE and R^2 are {} and {} respectively.\".format(MSE_test, R_2_test))"
   ]
  },
  {
   "cell_type": "markdown",
   "metadata": {},
   "source": [
    "The MSE and $R^2$ between the train and test data are very similar which implies that the model is performing well and is able to generalize to new data. This is also a good sign that the model is not underfitting or overfitting the training data. \n",
    "\n",
    "Plus, the $R^2$ is close to 1 and the MSE is very small, which both indicate that the model we have fitted explains the data well."
   ]
  },
  {
   "cell_type": "markdown",
   "metadata": {
    "id": "fBOetvBSIpwM"
   },
   "source": [
    "#### 1.2 Lasso regression (12 marks) \n",
    "\n",
    "1.2.1"
   ]
  },
  {
   "cell_type": "code",
   "execution_count": 9,
   "metadata": {
    "id": "a3CqJ8TWIp_0"
   },
   "outputs": [],
   "source": [
    "# Create copies of the previous dataset. \n",
    "# The reason we do this is that it is easier to keep track of which data is for which task.\n",
    "# Note that these are already standardised and contain a column of ones at the start of the matrix.\n",
    "\n",
    "X_train_lasso = X_train_intercept\n",
    "X_test_lasso = X_test_intercept\n",
    "\n",
    "y_train_lasso = y_train\n",
    "y_test_lasso = y_test"
   ]
  },
  {
   "cell_type": "code",
   "execution_count": 10,
   "metadata": {},
   "outputs": [],
   "source": [
    "# Now in order to perform gradient descent on this loss function we need to calculate its gradient.\n",
    "# The function below calculates the gradient and returns the grad vector.\n",
    "\n",
    "def loss_gradient_lasso(beta, X, y, lam):\n",
    "    \n",
    "    N = len(y)\n",
    "    y_pred = X @ beta\n",
    "    diff = y - y_pred\n",
    "    sgn = np.sign(beta)\n",
    "    \n",
    "    # So we don't add the intercept term.\n",
    "    sgn[0] = 0\n",
    "    \n",
    "    grad =  - 1 / N * (X.T @ diff) + lam * sgn\n",
    "    \n",
    "    return grad\n",
    "    "
   ]
  },
  {
   "cell_type": "code",
   "execution_count": 11,
   "metadata": {},
   "outputs": [
    {
     "name": "stdout",
     "output_type": "stream",
     "text": [
      "[-1.79765305e-15 -7.30574504e-01  1.78717957e-01 -8.04084137e-01\n",
      " -5.29123723e-03  3.44570037e-01 -1.14972116e-02]\n"
     ]
    }
   ],
   "source": [
    "# Now we have to perform gradient descent using the non-constant learning rate and the grad vector from above.\n",
    "# We output the optimal vector of coefficients for this regularisation parameter lambda.\n",
    "\n",
    "def gradient_descent_lasso(X, y, lam, max_iter=500, tol=1e-4):\n",
    "    \n",
    "    # initialise beta and the learning rate\n",
    "    beta = np.ones(X.shape[1])\n",
    "    alpha = 1\n",
    "    it = 0\n",
    "    \n",
    "    \n",
    "    # Run gradient descent while not exceeding the maximum iterations.\n",
    "    while it <= max_iter:\n",
    "        \n",
    "        prev_beta = beta.copy()\n",
    "        it += 1\n",
    "        beta -= alpha / it * (loss_gradient_lasso(beta, X, y, lam))\n",
    "        \n",
    "        # Check for convergence by seeing if the change in beta is minimal\n",
    "        diff = np.linalg.norm(beta - prev_beta)\n",
    "        if diff < tol:\n",
    "            break\n",
    "    \n",
    "    return beta  \n",
    "\n",
    "print(gradient_descent_lasso(X_train_lasso, y_train_lasso, 0.01))"
   ]
  },
  {
   "cell_type": "code",
   "execution_count": 12,
   "metadata": {},
   "outputs": [],
   "source": [
    "# We calculate the MSE and run a T-fold cross-validation search to tune the hyperparameter.\n",
    "\n",
    "def MSE_lasso(X_test, y_test, beta):\n",
    "    y_pred = X_test @ beta\n",
    "    return np.mean((y_pred - y_test) ** 2)\n",
    "\n",
    "def cross_validation_lasso(X_train, y_train, folds, lam):\n",
    "    MSE_l = []\n",
    "    for i in range(len(folds)):\n",
    "        val_indexes = folds[i]\n",
    "        train_indexes = list(set(range(y_train.shape[0])) - set(val_indexes))\n",
    "\n",
    "        X_train_i = X_train[train_indexes, :]\n",
    "        y_train_i = y_train[train_indexes]\n",
    "\n",
    "\n",
    "        X_val_i = X_train[val_indexes, :]\n",
    "        y_val_i = y_train[val_indexes]\n",
    "        \n",
    "        beta = gradient_descent_lasso(X_train_i, y_train_i, lam)\n",
    "        \n",
    "        MSE_i = MSE_lasso(X_val_i, y_val_i, beta)\n",
    "        MSE_l.append(MSE_i)\n",
    "\n",
    "    # Return the average MSE across the T-folds.\n",
    "    return sum(MSE_l) / len(MSE_l)"
   ]
  },
  {
   "cell_type": "code",
   "execution_count": 13,
   "metadata": {},
   "outputs": [
    {
     "name": "stdout",
     "output_type": "stream",
     "text": [
      "The optimal lambda is 0.0023729483883725526\n"
     ]
    },
    {
     "data": {
      "image/png": "[encoded data removed]",
      "text/plain": [
       "<Figure size 640x480 with 1 Axes>"
      ]
     },
     "metadata": {},
     "output_type": "display_data"
    }
   ],
   "source": [
    "# In order to plot the average MSE against the lambdas we need to create an array of MSEs\n",
    "# which correspond to the lambda.\n",
    "\n",
    "MSE_arr = np.array([])\n",
    "\n",
    "# We use a 5-fold cross validation split.\n",
    "# NOTE: this function can be found at the start of the notebook.\n",
    "folds = cross_val_split(len(y_train_lasso), 5)\n",
    "\n",
    "for lam in np.linspace(0, 20, 40) / X_train_lasso.shape[0]:\n",
    "    MSE = cross_validation_lasso(X_train_lasso, y_train_lasso, folds, lam)\n",
    "    MSE_arr = np.append(MSE_arr, MSE)\n",
    "\n",
    "plt.plot(np.linspace(0, 20, 40) / X_train_lasso.shape[0], MSE_arr)\n",
    "plt.title(\"A Curve to show how MSE varies with the Lasso Penalty\")\n",
    "plt.ylabel(\"Mean Sqaured Error\")\n",
    "plt.xlabel(\"Value of $\\lambda$\")\n",
    "\n",
    "\n",
    "# perform grid search to find the best lambda.\n",
    "\n",
    "ind = np.argmin(MSE_arr)\n",
    "optimal_lam = np.linspace(0, 20, 40)[ind] / X_train_lasso.shape[0]\n",
    "print(\"The optimal lambda is {}\".format(optimal_lam))"
   ]
  },
  {
   "cell_type": "markdown",
   "metadata": {
    "id": "DKl-qA13KoZI"
   },
   "source": [
    "1.2.2"
   ]
  },
  {
   "cell_type": "code",
   "execution_count": 14,
   "metadata": {
    "id": "L8F44NEcIx6c"
   },
   "outputs": [
    {
     "data": {
      "text/plain": [
       "<matplotlib.legend.Legend at 0x7f95880c1160>"
      ]
     },
     "execution_count": 14,
     "metadata": {},
     "output_type": "execute_result"
    },
    {
     "data": {
      "image/png": "[encoded data removed]",
      "text/plain": [
       "<Figure size 640x480 with 1 Axes>"
      ]
     },
     "metadata": {},
     "output_type": "display_data"
    }
   ],
   "source": [
    "lam_range = np.linspace(0, 1, 1000)\n",
    "\n",
    "beta_arr = np.array([gradient_descent_lasso(X_train_intercept, y_train_lasso, lam) for lam in lam_range])\n",
    "\n",
    "intercept = beta_arr[:, 0]\n",
    "frequency = beta_arr[:, 1]\n",
    "angle = beta_arr[:, 2]\n",
    "displacement = beta_arr[:, 3]\n",
    "chord_length = beta_arr[:, 4]\n",
    "velocity = beta_arr[:, 5]\n",
    "thickness = beta_arr[:, 6]\n",
    "\n",
    "plt.plot(lam_range, intercept, label=\"Intercept\")\n",
    "plt.plot(lam_range, frequency, label=\"Frequency\")\n",
    "plt.plot(lam_range, angle, label=\"Angle\")\n",
    "plt.plot(lam_range, displacement, label=\"Displacemt\")\n",
    "plt.plot(lam_range, chord_length, label=\"Chord Length\")\n",
    "plt.plot(lam_range, velocity, label=\"Velocity\")\n",
    "plt.plot(lam_range, thickness, label=\"Thickness\")\n",
    "plt.ylabel(r\"$\\beta_{i}$\")\n",
    "plt.xlabel(r\"Value of $\\lambda$\")\n",
    "plt.legend(['Intercept', 'Frequency', 'Angle', 'Displacement', 'Chord Length', 'Velocity', 'Thickness'])"
   ]
  },
  {
   "cell_type": "markdown",
   "metadata": {},
   "source": [
    "From the plot above we can see that as the Lasso Penalty $\\lambda$ increases it shrinks the values of each component of $\\beta$ and sets some of them to zero, as expected. This is to reduce overfitting, which in turn reduces the MSE and thus the variance in the model - making it more generalizable."
   ]
  },
  {
   "cell_type": "markdown",
   "metadata": {
    "id": "5tY1R0v5Kpjf"
   },
   "source": [
    "1.2.3"
   ]
  },
  {
   "cell_type": "code",
   "execution_count": 15,
   "metadata": {
    "id": "peP-pt2rIyBU"
   },
   "outputs": [
    {
     "name": "stdout",
     "output_type": "stream",
     "text": [
      "The in-sample MSE is 0.0827316304726995 and the R^2 is 0.9172683695273005\n",
      "The out-sample MSE is 0.09145311070943517 and the R^2 is 0.9085468892905648\n"
     ]
    }
   ],
   "source": [
    "# Find the optimal parameters and the predict y for the in-sample scores\n",
    "\n",
    "beta_opt = gradient_descent_lasso(X_train_lasso, y_train_lasso, optimal_lam)\n",
    "\n",
    "MSE_in = MSE_lasso(X_train_lasso, y_train_lasso, beta_opt)\n",
    "\n",
    "def R_2_lasso(X, y, beta):\n",
    "    y_bar = np.mean(y)\n",
    "    TSS = np.mean((y - y_bar) ** 2)\n",
    "    MSE = MSE_lasso(X, y, beta)\n",
    "    return 1 - (MSE / TSS)\n",
    "\n",
    "R_2_in = R_2_lasso(X_train_lasso, y_train_lasso, beta_opt)\n",
    "\n",
    "MSE_out = MSE_lasso(X_test_lasso, y_test_lasso, beta_opt)\n",
    "R_2_out = R_2_lasso(X_test_lasso, y_test_lasso, beta_opt)\n",
    "\n",
    "print(r\"The in-sample MSE is {} and the R^2 is {}\".format(MSE_in, R_2_in))\n",
    "print(r\"The out-sample MSE is {} and the R^2 is {}\".format(MSE_out, R_2_out))"
   ]
  },
  {
   "cell_type": "markdown",
   "metadata": {
    "id": "QFEa0_--IqOT"
   },
   "source": [
    "#### 1.3 Elastic Nets (20 marks) \n",
    "1.3.1"
   ]
  },
  {
   "cell_type": "code",
   "execution_count": 16,
   "metadata": {},
   "outputs": [],
   "source": [
    "# Create copies of the dataset for elastic nets.\n",
    "\n",
    "X_train_EN = X_train_intercept\n",
    "X_test_EN = X_test_intercept\n",
    "\n",
    "y_train_EN = y_train\n",
    "y_test_EN = y_test"
   ]
  },
  {
   "cell_type": "code",
   "execution_count": 17,
   "metadata": {
    "id": "cxTDiSqbIqai"
   },
   "outputs": [],
   "source": [
    "# Just like we did for the lasso regression we have to calculate the gradient of our new loss function.\n",
    "# We return the gradient vector.\n",
    "\n",
    "def loss_gradient_EN(beta, X, y, lam, alpha):\n",
    "    \n",
    "    N = len(y)\n",
    "    y_pred = X @ beta\n",
    "    diff = y - y_pred\n",
    "    sgn = np.sign(beta)\n",
    "    \n",
    "    # so that we don't add the intercept term.\n",
    "    sgn[0] = 0\n",
    "    \n",
    "    \n",
    "    grad = - (1 / N) * (X.T @ diff) + lam * (alpha * sgn + 2 * (1 - alpha) * beta)\n",
    "    \n",
    "    return grad"
   ]
  },
  {
   "cell_type": "code",
   "execution_count": 18,
   "metadata": {},
   "outputs": [],
   "source": [
    "# Now we perform gradient descent again just like we did for lasso, just with another parameter.\n",
    "# This time alpha is not the learning-rate.\n",
    "\n",
    "def gradient_descent_EN(X, y, lam, alpha, max_iter=500, tol=1e-4):\n",
    "    \n",
    "    # initialise beta and the learning rate\n",
    "    beta = np.ones(X.shape[1])\n",
    "    lr = 1\n",
    "    it = 0\n",
    "    \n",
    "    \n",
    "    # Run gradient descent while not exceeding the maximum iterations.\n",
    "    while it <= max_iter:\n",
    "        \n",
    "        prev_beta = beta.copy()\n",
    "        it += 1\n",
    "        beta -= lr / it * (loss_gradient_EN(beta, X, y, lam, alpha))\n",
    "        \n",
    "        # Check for convergence by seeing if the change in beta is minimal\n",
    "        diff = np.linalg.norm(beta - prev_beta)\n",
    "        if diff < tol:\n",
    "            break\n",
    "    \n",
    "    return beta\n",
    "\n",
    "# Return the predicted y's given the optimal beta.\n",
    "def predict_EN(X, beta):\n",
    "    return X @ beta"
   ]
  },
  {
   "cell_type": "markdown",
   "metadata": {
    "id": "upr0TvYiK2ZH"
   },
   "source": [
    "1.3.2"
   ]
  },
  {
   "cell_type": "code",
   "execution_count": 19,
   "metadata": {
    "id": "1GzDm3BJI4HX"
   },
   "outputs": [],
   "source": [
    "# We create folds and run a 5-fold cross_validation.\n",
    "\n",
    "def MSE_EN(X, y, beta):\n",
    "    y_pred = predict_EN(X, beta)\n",
    "    return np.mean((y_pred - y) ** 2)\n",
    "\n",
    "folds = cross_val_split(len(y_train_EN), 5)\n",
    "\n",
    "def cross_validation_EN(X_train, y_train, folds, lam, alpha):\n",
    "    MSE_l = []\n",
    "    for i in range(len(folds)):\n",
    "        val_indexes = folds[i]\n",
    "        train_indexes = list(set(range(y_train.shape[0])) - set(val_indexes))\n",
    "\n",
    "        X_train_i = X_train[train_indexes, :]\n",
    "        y_train_i = y_train[train_indexes]\n",
    "\n",
    "\n",
    "        X_val_i = X_train[val_indexes, :]\n",
    "        y_val_i = y_train[val_indexes]\n",
    "        \n",
    "        beta = gradient_descent_EN(X_train_i, y_train_i, lam, alpha)\n",
    "        \n",
    "        MSE_i = MSE_EN(X_val_i, y_val_i, beta)\n",
    "        MSE_l.append(MSE_i)\n",
    "\n",
    "    # Return the average MSE across the T-folds.\n",
    "    return sum(MSE_l) / len(MSE_l)"
   ]
  },
  {
   "cell_type": "code",
   "execution_count": 20,
   "metadata": {},
   "outputs": [
    {
     "name": "stdout",
     "output_type": "stream",
     "text": [
      "[0.         0.00092281 0.00210929]\n",
      "The out-sample MSE and R^2 for lambda 0.0 and alpha 0.1 is 0.09171 and 0.90829 respectively.\n",
      "The out-sample MSE and R^2 for lambda 0.00092 and alpha 0.5 is 0.09168 and 0.90832 respectively.\n",
      "The out-sample MSE and R^2 for lambda 0.00211 and alpha 0.9 is 0.09152 and 0.90848 respectively.\n"
     ]
    }
   ],
   "source": [
    "# We are doing a grid search across alphas and lambdas, but we only need to optimise lambda in the question.\n",
    "# Therefore, we will only return the best lambdas in an array.\n",
    "\n",
    "def grid_search_EN(X, y, folds, lam_range, alpha_range):\n",
    "    \n",
    "    lam_arr = np.array([])\n",
    "    \n",
    "    for alpha in alpha_range:\n",
    "        best_lam_score = np.inf\n",
    "        best_lam = 0\n",
    "        for lam in lam_range:\n",
    "            lam_score = cross_validation_EN(X, y, folds, lam, alpha)\n",
    "            if lam_score < best_lam_score:        \n",
    "                best_lam_score, best_lam = lam_score, lam\n",
    "        \n",
    "        # After finding the most optimal lambda append it to the lambda array.\n",
    "        # Then move onto the next alpha.\n",
    "        lam_arr = np.append(lam_arr, best_lam)\n",
    "    \n",
    "    return lam_arr\n",
    "\n",
    "folds = cross_val_split(len(y_train_EN), 5)\n",
    "\n",
    "lam_range = np.linspace(0, 20, 40) / X_train_lasso.shape[0]\n",
    "lam_arr = grid_search_EN(X_train_EN, y_train_EN, folds, lam_range, [0.1, 0.5, 0.9])\n",
    "print(grid_search_EN(X_train_EN, y_train_EN, folds, lam_range, [0.1, 0.5, 0.9]))\n",
    "\n",
    "# Calulates the R^2 score for the elastic net. \n",
    "def R_2_EN(X, y, beta):\n",
    "    y_bar = np.mean(y)\n",
    "    TSS = np.mean((y - y_bar) ** 2)\n",
    "    MSE = MSE_EN(X, y, beta)\n",
    "    return 1 - (MSE / TSS)\n",
    "\n",
    "\n",
    "# Report the out_sample MSE and R^2 scores\n",
    "for alpha, lam in zip([0.1, 0.5, 0.9], lam_arr):\n",
    "    beta_best = gradient_descent_EN(X_train_EN, y_train_EN, lam, alpha)\n",
    "    MSE_EN_out = MSE_EN(X_test_EN, y_test_EN, beta_best)\n",
    "    R_2_EN_out = R_2_EN(X_test_EN, y_test_EN, beta_best)\n",
    "        \n",
    "    print(\"The out-sample MSE and R^2 for lambda {} and alpha {} is {} and {} respectively.\".format(\n",
    "        np.round(lam, 5), alpha, format(np.round(MSE_EN_out, 5)), format(np.round(R_2_EN_out, 5))))"
   ]
  },
  {
   "cell_type": "markdown",
   "metadata": {},
   "source": [
    "We can deduce that $\\alpha = 0.9$ is narrowly the optimal alpha."
   ]
  },
  {
   "cell_type": "markdown",
   "metadata": {
    "id": "FV_wZw8tK3Y3"
   },
   "source": [
    "1.3.3"
   ]
  },
  {
   "cell_type": "code",
   "execution_count": 21,
   "metadata": {
    "id": "Vt1AYcPHI4Mw"
   },
   "outputs": [
    {
     "data": {
      "image/png": "[encoded data removed]",
      "text/plain": [
       "<Figure size 640x480 with 1 Axes>"
      ]
     },
     "metadata": {},
     "output_type": "display_data"
    },
    {
     "data": {
      "image/png": "[encoded data removed]",
      "text/plain": [
       "<Figure size 640x480 with 1 Axes>"
      ]
     },
     "metadata": {},
     "output_type": "display_data"
    },
    {
     "data": {
      "image/png": "[encoded data removed]",
      "text/plain": [
       "<Figure size 640x480 with 1 Axes>"
      ]
     },
     "metadata": {},
     "output_type": "display_data"
    }
   ],
   "source": [
    "lam_range = np.linspace(0, 20, 40) / X_train_lasso.shape[0]\n",
    "lam_arr = grid_search_EN(X_train_EN, y_train_EN, folds, lam_range, [0, 0.5, 1])\n",
    "\n",
    "for alpha, lam, in zip([0, 0.5, 1], lam_arr):\n",
    "    \n",
    "    beta = np.array(gradient_descent_EN(X_train_EN, y_train_EN, lam, alpha))\n",
    "    \n",
    "    labels = [\"Intercept\", \"Frequency\", \"Angle\", \"Displacement\", \"Chord Length\", \"Velocity\", \"Thickness\"]\n",
    "    \n",
    "    fig, ax = plt.subplots()\n",
    "    ax.bar(labels, np.abs(beta))\n",
    "    ax.set_xlabel('Inferred Parameters')\n",
    "    ax.set_ylabel('Magnitude of each Inferred Parameter')\n",
    "    ax.set_title(f'Magnitude of the Inferred Parameters when lambda = {np.round(lam, 5)} and alpha = {alpha}')\n",
    "    plt.xticks(rotation=45)\n",
    "    \n",
    "    for i, val in enumerate(np.abs(beta)):\n",
    "        ax.text(i, val, str(round(val,3)), ha='center', va='bottom')\n",
    "    \n",
    "    plt.show()\n",
    "    "
   ]
  },
  {
   "cell_type": "markdown",
   "metadata": {},
   "source": [
    "The case where $\\alpha = 0$ is when we solely perform ridge regression, likewise the case where $\\alpha = 1$ is when we solely perform lasso regression. Finally when $\\alpha = 0.5$ we give equal importance to both lasso and ridge regression. The fact that the magnitude of the vectors change very little implies that not one method majorly outperforms the other."
   ]
  },
  {
   "cell_type": "markdown",
   "metadata": {
    "id": "4G0sCqwuIqsh"
   },
   "source": [
    "#### 1.4 kNN regression (10 marks)\n",
    "1.4.1"
   ]
  },
  {
   "cell_type": "code",
   "execution_count": 22,
   "metadata": {
    "id": "d-LzYu06JMC6"
   },
   "outputs": [],
   "source": [
    "# We have already standardised our data in the linear regresion task!\n",
    "X_train_kNN = X_train\n",
    "X_test_kNN = X_test\n",
    "\n",
    "y_train_kNN = y_train\n",
    "y_test_kNN = y_test"
   ]
  },
  {
   "cell_type": "code",
   "execution_count": 23,
   "metadata": {},
   "outputs": [],
   "source": [
    "# Recall that kNN relies on the euclidian distance between two points\n",
    "\n",
    "def euclidian_distance(p, q):\n",
    "    return np.sqrt(np.sum((p-q)**2, axis=1))"
   ]
  },
  {
   "cell_type": "markdown",
   "metadata": {},
   "source": [
    "kNN regression relies on finding the k-nearest $y$ neighbours to a particular $x_{in}$ and then assigning the mean of those neighbours as the response variable or $y_{new}$ which corresponds to $x_{in}$"
   ]
  },
  {
   "cell_type": "code",
   "execution_count": 24,
   "metadata": {},
   "outputs": [],
   "source": [
    "# Now we define a function which finds the k nearest neighbours to a point\n",
    "\n",
    "def k_neighbours(X_train, X_test, k, return_distance=False):\n",
    "    n_neighbours = k\n",
    "    dist = []\n",
    "    neigh_ind = []\n",
    "\n",
    "    # compute distance from each point x_test in X_test to all points in X_train\n",
    "    point_dist = [euclidian_distance(x_test, X_train) for x_test in X_test] \n",
    "\n",
    "    # determine which k training points are closest to each test point\n",
    "    for row in point_dist:\n",
    "        enum_neigh = enumerate(row)\n",
    "        sorted_neigh = sorted(enum_neigh, key=lambda x: x[1])[:k]\n",
    "\n",
    "        ind_list = [tup[0] for tup in sorted_neigh]\n",
    "        dist_list = [tup[1] for tup in sorted_neigh]\n",
    "\n",
    "        dist.append(dist_list)\n",
    "        neigh_ind.append(ind_list)\n",
    "\n",
    "    # return distances together with indices of k nearest neighbours\n",
    "    if return_distance:\n",
    "        return np.array(dist), np.array(neigh_ind)\n",
    "\n",
    "    return np.array(neigh_ind)"
   ]
  },
  {
   "cell_type": "code",
   "execution_count": 25,
   "metadata": {},
   "outputs": [],
   "source": [
    "# Here we find the predicted values using the k_neihgbours model.\n",
    "\n",
    "def reg_predict(X_train, y_train, X_test, k):\n",
    "    # Each of the k neighbours contributes equally to the prediction of any data point in X_test  \n",
    "    neighbours = k_neighbours(X_train, X_test, k=k)\n",
    "    \n",
    "    # Compute mean over neighbours labels\n",
    "    y_pred = np.array([np.mean(y_train[neighbour]) for neighbour in neighbours])\n",
    "\n",
    "    return y_pred"
   ]
  },
  {
   "cell_type": "markdown",
   "metadata": {},
   "source": [
    "Now in order to train the model we need to use cross-validation to find the best k, for which we use 5-fold cross-validation."
   ]
  },
  {
   "cell_type": "code",
   "execution_count": 69,
   "metadata": {},
   "outputs": [
    {
     "name": "stdout",
     "output_type": "stream",
     "text": [
      "CV_MSE@k=1: 0.231\n",
      "CV_MSE@k=2: 0.171\n",
      "CV_MSE@k=3: 0.149\n",
      "CV_MSE@k=4: 0.142\n",
      "CV_MSE@k=5: 0.136\n",
      "CV_MSE@k=6: 0.133\n",
      "CV_MSE@k=7: 0.132\n",
      "CV_MSE@k=8: 0.132\n",
      "CV_MSE@k=9: 0.130\n",
      "CV_MSE@k=10: 0.130\n",
      "CV_MSE@k=11: 0.131\n",
      "CV_MSE@k=12: 0.131\n",
      "CV_MSE@k=13: 0.131\n",
      "CV_MSE@k=14: 0.132\n",
      "CV_MSE@k=15: 0.133\n",
      "CV_MSE@k=16: 0.133\n",
      "CV_MSE@k=17: 0.134\n",
      "CV_MSE@k=18: 0.134\n",
      "CV_MSE@k=19: 0.135\n",
      "CV_MSE@k=20: 0.136\n",
      "The best k is 10\n",
      "The out-sample MSE is 0.1357061206424599\n"
     ]
    }
   ],
   "source": [
    "# We use cross_val_split defined at the start to get our fold indexes\n",
    "folds = cross_val_split(X_train_kNN.shape[0], 5)\n",
    "\n",
    "# We use MSE_kNN and cross_validation_kNN to find the best k.\n",
    "def MSE_kNN(X_train, y_train, X_test, y_test, k):\n",
    "    y_pred = reg_predict(X_train, y_train, X_test, k)\n",
    "    return np.mean((y_pred - y_test) ** 2)\n",
    "\n",
    "def cross_validation_kNN(X_train, y_train, folds, k):\n",
    "    MSE_l = []\n",
    "    for i in range(len(folds)):\n",
    "        val_indexes = folds[i]\n",
    "        train_indexes = list(set(range(y_train.shape[0])) - set(val_indexes))\n",
    "\n",
    "        X_train_i = X_train[train_indexes, :]\n",
    "        y_train_i = y_train[train_indexes]\n",
    "\n",
    "\n",
    "        X_val_i = X_train[val_indexes, :]\n",
    "        y_val_i = y_train[val_indexes]\n",
    "\n",
    "        MSE_i = MSE_kNN(X_train_i, y_train_i, X_val_i, y_val_i, k=k)\n",
    "        MSE_l.append(MSE_i)\n",
    "\n",
    "    # Return the average score\n",
    "    return sum(MSE_l) / len(MSE_l)\n",
    "\n",
    "# This function finds the best k and uses cross_val_split which was defined at the start.\n",
    "def choose_best_k(X_train, y_train, folds, k_range):\n",
    "    k_MSE = np.zeros((len(k_range),))\n",
    "\n",
    "    for i, k in enumerate(k_range):\n",
    "        k_MSE[i] = cross_validation_kNN(X_train, y_train, folds, k)\n",
    "        print(f'CV_MSE@k={k}: {k_MSE[i]:.3f}')\n",
    "        \n",
    "        # We want to minimise the MSE\n",
    "        best_k_index = np.argmin(k_MSE)\n",
    "    return k_range[best_k_index]\n",
    "\n",
    "k = choose_best_k(X_train_kNN, y_train_kNN, folds, np.arange(1, 21))\n",
    "print(\"The best k is {}\".format(k))\n",
    "\n",
    "MSE_kNN = MSE_kNN(X_train_kNN, y_train_kNN, X_test_kNN, y_test_kNN, k=k)\n",
    "print(\"The out-sample MSE is {}\".format(MSE_kNN))"
   ]
  },
  {
   "cell_type": "markdown",
   "metadata": {
    "id": "mnIY5g7OK7fs"
   },
   "source": [
    "1.4.2"
   ]
  },
  {
   "cell_type": "markdown",
   "metadata": {
    "id": "SvW0h75VJMHn"
   },
   "source": [
    "The out-sample MSE for kNN (which we calculated above) is higher than the out-sample MSE from 1.1, 1.2 and 1.3 which could imply that the data follows more of a linear relationship."
   ]
  },
  {
   "cell_type": "markdown",
   "metadata": {
    "id": "t3tn2TtkJOKM"
   },
   "source": [
    "## Task 2: Classification  (50 marks)\n",
    "\n"
   ]
  },
  {
   "cell_type": "markdown",
   "metadata": {
    "id": "H3M4W43cMTZj"
   },
   "source": [
    "#### 2.1 Random forest (20 marks)\n",
    "2.1.1"
   ]
  },
  {
   "cell_type": "code",
   "execution_count": 27,
   "metadata": {
    "id": "PVRERNazJQ0t"
   },
   "outputs": [],
   "source": [
    "# Read in both train and test data.\n",
    "# The test_data will not be used in any in sample learning !\n",
    "\n",
    "train_data_rf = pd.read_csv(\"./diabetes_samples.csv\")\n",
    "test_data_rf = pd.read_csv(\"./diabetes_test.csv\")\n",
    "train_data_rf_1 = train_data_rf.set_index(train_data_rf['patient_number']).drop(train_data_rf.columns[0], axis=1)\n",
    "test_data_rf_1 = test_data_rf.set_index(test_data_rf['patient_number']).drop(test_data_rf.columns[0], axis=1)"
   ]
  },
  {
   "cell_type": "code",
   "execution_count": 28,
   "metadata": {},
   "outputs": [
    {
     "data": {
      "text/html": [
       "<div>\n",
       "<style scoped>\n",
       "    .dataframe tbody tr th:only-of-type {\n",
       "        vertical-align: middle;\n",
       "    }\n",
       "\n",
       "    .dataframe tbody tr th {\n",
       "        vertical-align: top;\n",
       "    }\n",
       "\n",
       "    .dataframe thead th {\n",
       "        text-align: right;\n",
       "    }\n",
       "</style>\n",
       "<table border=\"1\" class=\"dataframe\">\n",
       "  <thead>\n",
       "    <tr style=\"text-align: right;\">\n",
       "      <th></th>\n",
       "      <th>cholesterol</th>\n",
       "      <th>glucose</th>\n",
       "      <th>hdl_chol</th>\n",
       "      <th>chol_hdl_ratio</th>\n",
       "      <th>age</th>\n",
       "      <th>height</th>\n",
       "      <th>weight</th>\n",
       "      <th>bmi</th>\n",
       "      <th>systolic_bp</th>\n",
       "      <th>diastolic_bp</th>\n",
       "      <th>waist</th>\n",
       "      <th>hip</th>\n",
       "      <th>waist_hip_ratio</th>\n",
       "      <th>diabetes</th>\n",
       "    </tr>\n",
       "    <tr>\n",
       "      <th>patient_number</th>\n",
       "      <th></th>\n",
       "      <th></th>\n",
       "      <th></th>\n",
       "      <th></th>\n",
       "      <th></th>\n",
       "      <th></th>\n",
       "      <th></th>\n",
       "      <th></th>\n",
       "      <th></th>\n",
       "      <th></th>\n",
       "      <th></th>\n",
       "      <th></th>\n",
       "      <th></th>\n",
       "      <th></th>\n",
       "    </tr>\n",
       "  </thead>\n",
       "  <tbody>\n",
       "    <tr>\n",
       "      <th>3</th>\n",
       "      <td>217</td>\n",
       "      <td>75</td>\n",
       "      <td>54</td>\n",
       "      <td>4.0</td>\n",
       "      <td>20</td>\n",
       "      <td>67</td>\n",
       "      <td>187</td>\n",
       "      <td>29.3</td>\n",
       "      <td>110</td>\n",
       "      <td>72</td>\n",
       "      <td>40</td>\n",
       "      <td>45</td>\n",
       "      <td>0.89</td>\n",
       "      <td>0</td>\n",
       "    </tr>\n",
       "    <tr>\n",
       "      <th>5</th>\n",
       "      <td>164</td>\n",
       "      <td>91</td>\n",
       "      <td>67</td>\n",
       "      <td>2.4</td>\n",
       "      <td>20</td>\n",
       "      <td>70</td>\n",
       "      <td>141</td>\n",
       "      <td>20.2</td>\n",
       "      <td>122</td>\n",
       "      <td>86</td>\n",
       "      <td>32</td>\n",
       "      <td>39</td>\n",
       "      <td>0.82</td>\n",
       "      <td>0</td>\n",
       "    </tr>\n",
       "    <tr>\n",
       "      <th>6</th>\n",
       "      <td>170</td>\n",
       "      <td>69</td>\n",
       "      <td>64</td>\n",
       "      <td>2.7</td>\n",
       "      <td>20</td>\n",
       "      <td>64</td>\n",
       "      <td>161</td>\n",
       "      <td>27.6</td>\n",
       "      <td>108</td>\n",
       "      <td>70</td>\n",
       "      <td>37</td>\n",
       "      <td>40</td>\n",
       "      <td>0.93</td>\n",
       "      <td>0</td>\n",
       "    </tr>\n",
       "    <tr>\n",
       "      <th>8</th>\n",
       "      <td>164</td>\n",
       "      <td>71</td>\n",
       "      <td>63</td>\n",
       "      <td>2.6</td>\n",
       "      <td>20</td>\n",
       "      <td>72</td>\n",
       "      <td>145</td>\n",
       "      <td>19.7</td>\n",
       "      <td>108</td>\n",
       "      <td>78</td>\n",
       "      <td>29</td>\n",
       "      <td>36</td>\n",
       "      <td>0.81</td>\n",
       "      <td>0</td>\n",
       "    </tr>\n",
       "    <tr>\n",
       "      <th>9</th>\n",
       "      <td>230</td>\n",
       "      <td>112</td>\n",
       "      <td>64</td>\n",
       "      <td>3.6</td>\n",
       "      <td>20</td>\n",
       "      <td>67</td>\n",
       "      <td>159</td>\n",
       "      <td>24.9</td>\n",
       "      <td>100</td>\n",
       "      <td>90</td>\n",
       "      <td>31</td>\n",
       "      <td>39</td>\n",
       "      <td>0.79</td>\n",
       "      <td>0</td>\n",
       "    </tr>\n",
       "    <tr>\n",
       "      <th>...</th>\n",
       "      <td>...</td>\n",
       "      <td>...</td>\n",
       "      <td>...</td>\n",
       "      <td>...</td>\n",
       "      <td>...</td>\n",
       "      <td>...</td>\n",
       "      <td>...</td>\n",
       "      <td>...</td>\n",
       "      <td>...</td>\n",
       "      <td>...</td>\n",
       "      <td>...</td>\n",
       "      <td>...</td>\n",
       "      <td>...</td>\n",
       "      <td>...</td>\n",
       "    </tr>\n",
       "    <tr>\n",
       "      <th>353</th>\n",
       "      <td>182</td>\n",
       "      <td>206</td>\n",
       "      <td>43</td>\n",
       "      <td>4.2</td>\n",
       "      <td>70</td>\n",
       "      <td>69</td>\n",
       "      <td>214</td>\n",
       "      <td>31.6</td>\n",
       "      <td>158</td>\n",
       "      <td>90</td>\n",
       "      <td>45</td>\n",
       "      <td>48</td>\n",
       "      <td>0.94</td>\n",
       "      <td>1</td>\n",
       "    </tr>\n",
       "    <tr>\n",
       "      <th>360</th>\n",
       "      <td>205</td>\n",
       "      <td>83</td>\n",
       "      <td>42</td>\n",
       "      <td>4.9</td>\n",
       "      <td>72</td>\n",
       "      <td>61</td>\n",
       "      <td>180</td>\n",
       "      <td>34.0</td>\n",
       "      <td>170</td>\n",
       "      <td>90</td>\n",
       "      <td>39</td>\n",
       "      <td>47</td>\n",
       "      <td>0.83</td>\n",
       "      <td>0</td>\n",
       "    </tr>\n",
       "    <tr>\n",
       "      <th>362</th>\n",
       "      <td>207</td>\n",
       "      <td>71</td>\n",
       "      <td>41</td>\n",
       "      <td>5.0</td>\n",
       "      <td>72</td>\n",
       "      <td>70</td>\n",
       "      <td>180</td>\n",
       "      <td>25.8</td>\n",
       "      <td>138</td>\n",
       "      <td>88</td>\n",
       "      <td>39</td>\n",
       "      <td>40</td>\n",
       "      <td>0.98</td>\n",
       "      <td>1</td>\n",
       "    </tr>\n",
       "    <tr>\n",
       "      <th>374</th>\n",
       "      <td>209</td>\n",
       "      <td>113</td>\n",
       "      <td>65</td>\n",
       "      <td>3.2</td>\n",
       "      <td>76</td>\n",
       "      <td>60</td>\n",
       "      <td>143</td>\n",
       "      <td>27.9</td>\n",
       "      <td>156</td>\n",
       "      <td>78</td>\n",
       "      <td>35</td>\n",
       "      <td>40</td>\n",
       "      <td>0.88</td>\n",
       "      <td>1</td>\n",
       "    </tr>\n",
       "    <tr>\n",
       "      <th>387</th>\n",
       "      <td>226</td>\n",
       "      <td>279</td>\n",
       "      <td>52</td>\n",
       "      <td>4.3</td>\n",
       "      <td>84</td>\n",
       "      <td>60</td>\n",
       "      <td>192</td>\n",
       "      <td>37.5</td>\n",
       "      <td>144</td>\n",
       "      <td>88</td>\n",
       "      <td>41</td>\n",
       "      <td>48</td>\n",
       "      <td>0.85</td>\n",
       "      <td>1</td>\n",
       "    </tr>\n",
       "  </tbody>\n",
       "</table>\n",
       "<p>117 rows × 14 columns</p>\n",
       "</div>"
      ],
      "text/plain": [
       "                cholesterol  glucose  hdl_chol  chol_hdl_ratio  age  height  \\\n",
       "patient_number                                                                \n",
       "3                       217       75        54             4.0   20      67   \n",
       "5                       164       91        67             2.4   20      70   \n",
       "6                       170       69        64             2.7   20      64   \n",
       "8                       164       71        63             2.6   20      72   \n",
       "9                       230      112        64             3.6   20      67   \n",
       "...                     ...      ...       ...             ...  ...     ...   \n",
       "353                     182      206        43             4.2   70      69   \n",
       "360                     205       83        42             4.9   72      61   \n",
       "362                     207       71        41             5.0   72      70   \n",
       "374                     209      113        65             3.2   76      60   \n",
       "387                     226      279        52             4.3   84      60   \n",
       "\n",
       "                weight   bmi  systolic_bp  diastolic_bp  waist  hip  \\\n",
       "patient_number                                                        \n",
       "3                  187  29.3          110            72     40   45   \n",
       "5                  141  20.2          122            86     32   39   \n",
       "6                  161  27.6          108            70     37   40   \n",
       "8                  145  19.7          108            78     29   36   \n",
       "9                  159  24.9          100            90     31   39   \n",
       "...                ...   ...          ...           ...    ...  ...   \n",
       "353                214  31.6          158            90     45   48   \n",
       "360                180  34.0          170            90     39   47   \n",
       "362                180  25.8          138            88     39   40   \n",
       "374                143  27.9          156            78     35   40   \n",
       "387                192  37.5          144            88     41   48   \n",
       "\n",
       "                waist_hip_ratio  diabetes  \n",
       "patient_number                             \n",
       "3                          0.89         0  \n",
       "5                          0.82         0  \n",
       "6                          0.93         0  \n",
       "8                          0.81         0  \n",
       "9                          0.79         0  \n",
       "...                         ...       ...  \n",
       "353                        0.94         1  \n",
       "360                        0.83         0  \n",
       "362                        0.98         1  \n",
       "374                        0.88         1  \n",
       "387                        0.85         1  \n",
       "\n",
       "[117 rows x 14 columns]"
      ]
     },
     "execution_count": 28,
     "metadata": {},
     "output_type": "execute_result"
    }
   ],
   "source": [
    "train_data_rf_1.replace([\"No diabetes\", \"Diabetes\"], [0, 1], inplace=True)\n",
    "test_data_rf_1.replace([\"No diabetes\", \"Diabetes\"], [0, 1], inplace=True)\n",
    "\n",
    "train_data_rf_clean = train_data_rf_1\n",
    "test_data_rf_clean = test_data_rf_1\n",
    "\n",
    "# define a function to convert a single column to float format\n",
    "def convert_to_float(df, column):\n",
    "    df[column] = df[column].str.replace(',', '.').astype(float)\n",
    "\n",
    "# loop over all columns in the train_data_clean and convert them to float format\n",
    "for column in train_data_rf_clean.columns:\n",
    "    if train_data_rf_clean[column].dtype == 'O':\n",
    "        convert_to_float(train_data_rf_clean, column)\n",
    "        \n",
    "# same for test_data_clean\n",
    "for column in test_data_rf_clean.columns:\n",
    "    if test_data_rf_clean[column].dtype == object:\n",
    "        convert_to_float(test_data_rf_clean, column)\n",
    "        \n",
    "test_data_rf_clean"
   ]
  },
  {
   "cell_type": "code",
   "execution_count": 29,
   "metadata": {},
   "outputs": [],
   "source": [
    "X_train_rf = train_data_rf_clean.iloc[:, :13]\n",
    "y_train_rf = train_data_rf_clean.loc[:, \"diabetes\"]\n",
    "\n",
    "# We need a dictionary indicating whether the column index maps to a \n",
    "# categorical feature or numerical\n",
    "# In this example, all features are numerical (categorical=False)\n",
    "columns_dict = {index: False for index in range(X_train_rf.shape[1])}\n",
    "\n",
    "# We will use an equal weight distribution to begin with (it wasn't specified in the question)\n",
    "N = len(y_train_rf)\n",
    "training_weights = np.ones(N) / N"
   ]
  },
  {
   "cell_type": "code",
   "execution_count": 30,
   "metadata": {},
   "outputs": [],
   "source": [
    "# Define a cross entropy function\n",
    "\n",
    "def cross_entropy(y, sample_weights):\n",
    "    \"\"\" \n",
    "    Calculate the cross entropy for labels.\n",
    "    Arguments:\n",
    "        y: vector of training labels, of shape (N,).\n",
    "        sample_weights: weights for each samples, of shape (N,).\n",
    "    Returns:\n",
    "        (float): the Cross_entropy for y.\n",
    "    \"\"\"\n",
    "\n",
    "    # count different labels in y，and store in label_weights\n",
    "    # in our dataset the only labes are 0 and 1\n",
    "    # initialize weights with zero for each distinct label.\n",
    "    \n",
    "    label_weights = {yi: 0 for yi in set(y)} \n",
    "    for yi, wi in zip(y, sample_weights):\n",
    "        label_weights[yi] += wi\n",
    "\n",
    "    total_weight = sum(label_weights.values())\n",
    "    CE = 0\n",
    "    for label, weight in label_weights.items():\n",
    "        p = label_weights[label] / total_weight\n",
    "        \n",
    "        # using formula in the notes\n",
    "        CE -= p * np.log(p)\n",
    "\n",
    "\n",
    "    return CE"
   ]
  },
  {
   "cell_type": "markdown",
   "metadata": {},
   "source": [
    "Next, we define a function to split the data samples based on a feature (column) and a value, just like we did on a previous problem sheet. The feature corresponds to the \"j\" and the value corresponds to the \"s\" in each split."
   ]
  },
  {
   "cell_type": "code",
   "execution_count": 31,
   "metadata": {},
   "outputs": [],
   "source": [
    "# A function which actually performs the split\n",
    "\n",
    "def split_samples(X, y, sample_weights, column, value, categorical):\n",
    "    \"\"\"\n",
    "    Return the split of data whose column-th feature:\n",
    "    1. equals value, in case `column` is categorical, or\n",
    "    2. less than value, in case `column` is not categorical (i.e. numerical)\n",
    "\n",
    "    Arguments:\n",
    "      X: training features, of shape (N, D).\n",
    "      y: vector of training labels, of shape (N,).\n",
    "      sample_weights: weights for each samples, of shape (N,).\n",
    "      column: the column of the feature for splitting.\n",
    "      value: splitting threshold  the samples\n",
    "      categorical: boolean value indicating whether column is a categorical variable or numerical.\n",
    "    Returns:\n",
    "      tuple(np.array, np.array): tuple of subsets of X splitted based on column-th value.\n",
    "      tuple(np.array, np.array): tuple of subsets of y splitted based on column-th value.\n",
    "      tuple(np.array, np.array): tuple of subsets of sample weights based on column-th value.\n",
    "    \"\"\" \n",
    "\n",
    "    if categorical:\n",
    "        left_mask =(X[:, column] == value)\n",
    "    else:\n",
    "        left_mask = (X[:, column] < value) # left_mask is a tuple\n",
    "    \n",
    "\n",
    "    # Note that \"~\" in Python acts as NOT, so ~left_mask gets all the row indexes which aren't in left_mask\n",
    "  \n",
    "    X_left, X_right = X[left_mask, :], X[~left_mask, :]\n",
    "    y_left, y_right = y[left_mask], y[~left_mask]\n",
    "    w_left, w_right  = sample_weights[left_mask], sample_weights[~left_mask]\n",
    "\n",
    "    return (X_left, X_right), (y_left, y_right), (w_left, w_right)"
   ]
  },
  {
   "cell_type": "code",
   "execution_count": 32,
   "metadata": {},
   "outputs": [],
   "source": [
    "# A function which finds the best value / \"s\" to consider when performing the split along a specific column / \"j\"\n",
    "\n",
    "def CE_split_value(X, y, sample_weights, column, categorical):\n",
    "    \"\"\"\n",
    "    Calculate the cross-entropy based on `column` with the split that minimizes the cross-entropy.\n",
    "    Arguments:\n",
    "      X: training features, of shape (N, D).\n",
    "      y: vector of training labels, of shape (N,).\n",
    "      sample_weights: weights for each samples, of shape (N,).\n",
    "      column: the column of the feature for calculating. 0 <= column < D\n",
    "      categorical: boolean value indicating whether column is a categorical variable or numerical.\n",
    "    Returns:\n",
    "      (float, float): the resulted cross-entropy and the corresponding value used in splitting.\n",
    "    \"\"\"\n",
    "\n",
    "    unique_vals = np.unique(X[:, column])\n",
    "    \n",
    "    # If there is only one unique value along a column then we have to choose this one.\n",
    "    # So we make sure that we have more than one.\n",
    "    \n",
    "    assert len(unique_vals) > 1, f\"There must be more than one distinct feature value. Given: {unique_vals}.\"\n",
    "\n",
    "    CE_val, threshold = np.inf, None # we want to minimise CE so we initialise it to infinity\n",
    "\n",
    "    for value in unique_vals:\n",
    "        # split the values of i-th feature and calculate the cost \n",
    "        (X_l, X_r), (y_l, y_r), (w_l, w_r) = split_samples(X, y, sample_weights, column, value, categorical)\n",
    "\n",
    "        # If one of the two sides is empty, skip this split.\n",
    "        if len(y_l) == 0 or len(y_r) == 0:\n",
    "            continue\n",
    "\n",
    "        p_left = sum(w_l)/(sum(w_l) + sum(w_r))\n",
    "        p_right = 1 - p_left\n",
    "    \n",
    "        # Calculate the new CE after the split\n",
    "        new_cost = p_left * cross_entropy(y_l, w_l) + p_right * cross_entropy(y_r, w_r)\n",
    "    \n",
    "        if new_cost < CE_val:\n",
    "            CE_val, threshold = new_cost, value\n",
    "\n",
    "    return CE_val, threshold"
   ]
  },
  {
   "cell_type": "markdown",
   "metadata": {},
   "source": [
    "Below we have defined `CE_split_rf`. We have skipped out the step of creating a function `CE_split` because when constructing a random forest we have to account for feature bagging. This is where we choose a random subset of predictors or features to train the data on after bootstrapping. Therefore having an extra function `CE_split` which doesn't account for this is not necessary."
   ]
  },
  {
   "cell_type": "code",
   "execution_count": 33,
   "metadata": {},
   "outputs": [],
   "source": [
    "# choose the best column / \"j\" for the split by calculating the best \"s\" for each column.\n",
    "# return the overall best pair so that we can construct the decision tree\n",
    "\n",
    "def CE_split_rf(n_features, X, y, sample_weights, columns_dict):\n",
    "    \"\"\"\n",
    "    Choose the best feature to split according to criterion.\n",
    "    Args:\n",
    "      n_features: number of sampled features.\n",
    "      X: training features, of shape (N, D).\n",
    "      y: vector of training labels, of shape (N,).\n",
    "      sample_weights: weights for each samples, of shape (N,).\n",
    "      columns_dict: a dictionary mapping column indices to whether the column is categorical or numerical variable.\n",
    "    Returns:\n",
    "      (float, int, float): the minimized gini-index, the best feature index and value used in splitting.\n",
    "    \"\"\"\n",
    "    \n",
    "    # This is the extra step which accounts for feature bagging.\n",
    "    columns = np.random.choice(list(columns_dict.keys()), n_features, replace=False)\n",
    "    columns_dict = {c: columns_dict[c] for c in columns}\n",
    "\n",
    "    # Initialize `split_column` to None, so if None returned this means there is no valid split \n",
    "    # at the current node.\n",
    "    min_CE, split_column, split_val = np.inf, None, 0\n",
    "    \n",
    "    for column, categorical in columns_dict.items():\n",
    "        \n",
    "        # Skip column if samples are not seperable by that column.\n",
    "        if len(np.unique(X[:, column])) < 2:\n",
    "            continue\n",
    "\n",
    "        cross_entropy, val = CE_split_value(X, y, sample_weights, column, categorical)       \n",
    "        if cross_entropy < min_CE:\n",
    "            min_CE, split_column, split_val = cross_entropy, column, val\n",
    "\n",
    "    return min_CE, split_column, split_val"
   ]
  },
  {
   "cell_type": "markdown",
   "metadata": {},
   "source": [
    "Below we have defined a `majority_vote` and `classify` function. `majority_vote` calculates the majority label in a particular region of the data and `classify` then uses this to classify the new $x_{in}$ we want to predict. "
   ]
  },
  {
   "cell_type": "code",
   "execution_count": 34,
   "metadata": {},
   "outputs": [],
   "source": [
    "# We need a function to return the majority label so that we can classify the x_in\n",
    "\n",
    "def majority_vote(y, sample_weights):\n",
    "    \"\"\"\n",
    "    Return the label which appears the most in y.\n",
    "    Args:\n",
    "      y: vector of training labels, of shape (N,).\n",
    "      sample_weights: weights for each samples, of shape (N,).\n",
    "    Returns:\n",
    "      (int): the majority label\n",
    "    \"\"\"\n",
    "    majority_label = {yi: 0 for yi in set(y)}\n",
    "\n",
    "    for yi, wi in zip(y, sample_weights):\n",
    "        majority_label[yi] += wi\n",
    "    return max(majority_label, key=majority_label.get)\n",
    "\n",
    "# Now we need a function which actually classifies a single sample, which is a row of the dataset.\n",
    "\n",
    "def classify(tree, x):\n",
    "    \"\"\"\n",
    "    Classify a single sample with the fitted decision tree.\n",
    "    Args:\n",
    "      x: ((pd.Dataframe) a single sample features, of shape (D,).\n",
    "    Returns:\n",
    "      (int): predicted testing sample label.\n",
    "    \"\"\"\n",
    "    if tree['majority_label'] is not None: \n",
    "        return tree['majority_label']\n",
    "    \n",
    "    elif tree['categorical']:\n",
    "        if x[tree['feature_index']] == tree['value']:\n",
    "            return classify(tree['left'], x)\n",
    "        else:\n",
    "            return classify(tree['right'], x)\n",
    "    \n",
    "    else:\n",
    "        if x[tree['feature_index']] < tree['value']:\n",
    "            return classify(tree['left'], x)\n",
    "        else:\n",
    "            return classify(tree['right'], x)"
   ]
  },
  {
   "cell_type": "markdown",
   "metadata": {},
   "source": [
    "Now we can go about building a tree, training and predicting our data."
   ]
  },
  {
   "cell_type": "code",
   "execution_count": 35,
   "metadata": {},
   "outputs": [],
   "source": [
    "def build_tree_rf(n_features, X, y, sample_weights, columns_dict, feature_names, depth,  \n",
    "                  max_depth=10, min_samples_leaf=2):\n",
    "    \"\"\"Build the decision tree according to the data.\n",
    "    Args:\n",
    "      X: (np.array) training features, of shape (N, D).\n",
    "      y: (np.array) vector of training labels, of shape (N,).\n",
    "      sample_weights: weights for each samples, of shape (N,).\n",
    "      columns_dict: a dictionary mapping column indices to whether the column is categorical or numerical variable.\n",
    "      feature_names (list): record the name of features in X in the original dataset.\n",
    "      depth (int): current depth for this node.\n",
    "    Returns:\n",
    "      (dict): a dict denoting the decision tree (binary-tree). Each node has seven attributes:\n",
    "        1. 'feature_name': The column name of the split.\n",
    "        2. 'feature_index': The column index of the split.\n",
    "        3. 'value': The value used for the split.\n",
    "        4. 'categorical': indicator for categorical/numerical variables.\n",
    "        5. 'majority_label': For leaf nodes, this stores the dominant label. Otherwise, it is None.\n",
    "        6. 'left': The left sub-tree with the same structure.\n",
    "        7. 'right' The right sub-tree with the same structure.\n",
    "      Example:\n",
    "          mytree = {\n",
    "              'feature_name': 'petal length (cm)',\n",
    "              'feature_index': 2,\n",
    "              'value': 3.0,\n",
    "              'categorical': False,\n",
    "              'majority_label': None,\n",
    "              'left': {\n",
    "                  'feature_name': str,\n",
    "                  'feature_index': int,\n",
    "                  'value': float,\n",
    "                  'categorical': bool,\n",
    "                  'majority_label': None,\n",
    "                  'left': {..etc.},\n",
    "                  'right': {..etc.}\n",
    "              }\n",
    "              'right': {\n",
    "                  'feature_name': str,\n",
    "                  'feature_index': int,\n",
    "                  'value': float,\n",
    "                  'categorical': bool,\n",
    "                  'majority_label': None,\n",
    "                  'left': {..etc.},\n",
    "                  'right': {..etc.}\n",
    "              }\n",
    "          }\n",
    "    \"\"\"\n",
    "    # Include a clause for the cases where (i) all lables are the same, (ii) depth exceed (iii) X is too small\n",
    "    if len(np.unique(y)) == 1 or depth>=max_depth or len(X)<=min_samples_leaf: \n",
    "        return {'majority_label': majority_vote(y, sample_weights)}\n",
    "    else:\n",
    "        CE, split_index, split_val = CE_split_rf(n_features, X, y, sample_weights, columns_dict)\n",
    "\n",
    "    # If CE is infinity, it means that samples are not seperable by the sampled features.\n",
    "    if CE == np.inf:\n",
    "        return {'majority_label': majority_vote(y, sample_weights)}\n",
    "\n",
    "    categorical = columns_dict[split_index]\n",
    "\n",
    "    (X_l, X_r), (y_l, y_r), (w_l, w_r) =  split_samples(X, y, sample_weights, split_index, split_val, categorical)\n",
    "\n",
    "    # Notice how the left and right have build trees on them as well, so we are recursively calling this function\n",
    "    # This is so that we create the branches.\n",
    "\n",
    "    return {\n",
    "        'feature_name': feature_names[split_index],\n",
    "        'feature_index': split_index,\n",
    "        'value': split_val,\n",
    "        'categorical': categorical,\n",
    "        'majority_label': None,\n",
    "        'left': build_tree_rf(n_features, X_l, y_l, w_l, columns_dict, feature_names, depth + 1, \n",
    "                              max_depth, min_samples_leaf),\n",
    "        'right': build_tree_rf(n_features, X_r, y_r, w_r, columns_dict, feature_names, depth + 1, \n",
    "                               max_depth, min_samples_leaf)\n",
    "    }"
   ]
  },
  {
   "cell_type": "code",
   "execution_count": 36,
   "metadata": {},
   "outputs": [],
   "source": [
    "def train_rf(B, n_features, X, y,  columns_dict, max_depth, sample_weights=None):\n",
    "    \"\"\"\n",
    "    Build the decision tree according to the training data.\n",
    "    Args:\n",
    "      B: number of decision trees.\n",
    "      X: (pd.Dataframe) training features, of shape (N, D). Each X[i] is a training sample.\n",
    "      y: (pd.Series) vector of training labels, of shape (N,). y[i] is the label for X[i], and each y[i] is\n",
    "      an integer in the range 0 <= y[i] <= C. Here C = 1.\n",
    "      columns_dict: a dictionary mapping column indices to whether the column is categorical or numerical variable.\n",
    "      sample_weights: weights for each samples, of shape (N,).\n",
    "      depth = depth of each of the trees.\n",
    "    \"\"\"\n",
    "    if sample_weights is None:\n",
    "        # if the sample weights is not provided, we assume the samples have uniform weights\n",
    "        sample_weights = np.ones(X.shape[0]) / X.shape[0]\n",
    "    else:\n",
    "        sample_weights = np.array(sample_weights) / np.sum(sample_weights)\n",
    "\n",
    "    feature_names = X.columns.tolist()\n",
    "    X = X.to_numpy()\n",
    "    y = y.to_numpy()\n",
    "    N = X.shape[0]\n",
    "    training_indices = np.arange(N)\n",
    "    trees = []\n",
    "\n",
    "    # The bootstrap step\n",
    "    for _ in range(B):\n",
    "        sample = np.random.choice(training_indices, N, replace=True)\n",
    "        X_sample = X[sample, :]\n",
    "        y_sample = y[sample]\n",
    "        w_sample = sample_weights[sample]\n",
    "        tree = build_tree_rf(n_features, X_sample, y_sample, w_sample, columns_dict, feature_names, depth=1,\n",
    "                            max_depth = max_depth)\n",
    "        trees.append(tree)\n",
    "\n",
    "    return trees"
   ]
  },
  {
   "cell_type": "code",
   "execution_count": 37,
   "metadata": {},
   "outputs": [],
   "source": [
    "def predict_rf(rf, X):\n",
    "    \"\"\"\n",
    "    Predict classification results for X.\n",
    "    Args:\n",
    "      rf: A trained random forest through train_rf function.\n",
    "      X: numpy_array testing sample features, of shape (N, D).\n",
    "    Returns:\n",
    "      (np.array): predicted testing sample labels, of shape (N,).\n",
    "    \"\"\"\n",
    "\n",
    "    def aggregate(decisions):\n",
    "        count = defaultdict(int)\n",
    "        for decision in decisions:\n",
    "            count[decision] += 1\n",
    "        return max(count, key=count.get)\n",
    "\n",
    "    if len(X.shape) == 1:\n",
    "        return aggregate([classify(tree, X) for tree in rf])\n",
    "    else:\n",
    "        return np.array([aggregate([classify(tree, x) for tree in rf]) for x in X])"
   ]
  },
  {
   "cell_type": "markdown",
   "metadata": {},
   "source": [
    "Now we have to tune the hyperparameters (number of trees or B in `train_rf` and max_depth in `build_tree_rf`) using 4-fold cross-validation and grid search. \n",
    "\n",
    "We have to use $\\textit{accuracy}$ to make our decision, recall that $accuracy = \\frac{TP + TN}{N_{validation}}$.\n",
    "\n",
    "We must also carefully choose the ranges for each hyperparameter. We don't want the maximum number of tress to be too large as it will take a long time to train and evaluate. We also don't want the maximum for the depth of trees to be a number larger than 10 because it could lead to overfitting and thus a poor generalization performance."
   ]
  },
  {
   "cell_type": "code",
   "execution_count": 38,
   "metadata": {},
   "outputs": [],
   "source": [
    "# First we start by defining rf_score which uses accuracy to give us a way of comparing \n",
    "# which hyperparameter is best.\n",
    "\n",
    "def rf_score(rf, X_test, y_test):\n",
    "    \n",
    "    # Note that although we have called the arguments X_test and Y_test\n",
    "    # when we perform cross-validation these will actually be validation sets\n",
    "    # which will come from the training data.\n",
    "\n",
    "    X = X_test.to_numpy()\n",
    "    \n",
    "    y_pred = predict_rf(rf, X)\n",
    "    \n",
    "    # Note: to get true positives and true negatives we just need to count all the values in y_pred which match\n",
    "    # the values in y_test.\n",
    "    \n",
    "    num = np.sum(y_pred==y_test.to_numpy())\n",
    "    N = len(y_test.to_numpy())\n",
    "\n",
    "    return num / N"
   ]
  },
  {
   "cell_type": "code",
   "execution_count": 39,
   "metadata": {},
   "outputs": [],
   "source": [
    "# Now we need to evaluate the cross_val score for both hyperparemeters\n",
    "\n",
    "def cross_val_evaluate(data, num_folds, B, max_depth, sample_weights=None):\n",
    "    folds = cross_val_split(data.shape[0], num_folds)\n",
    "\n",
    "    train_scores = []\n",
    "    val_scores = []\n",
    "\n",
    "    for i in range(len(folds)):\n",
    "        #print('Fold', i+1)\n",
    "\n",
    "        val_indices = folds[i]\n",
    "        # define the training set\n",
    "        train_indices = list(set(range(data.shape[0])) - set(val_indices))\n",
    "\n",
    "        X_train = data.iloc[train_indices,  :-1]\n",
    "        y_train = data.iloc[train_indices, -1]\n",
    "\n",
    "        # define the validation set\n",
    "        X_val = data.iloc[val_indices,  :-1]\n",
    "        y_val = data.iloc[val_indices, -1]\n",
    "    \n",
    "        n_features = int(np.sqrt(X_train.shape[1]))\n",
    "\n",
    "        # train the model\n",
    "        rf = train_rf(B, n_features, X_train, y_train,  columns_dict, max_depth, sample_weights)\n",
    "        #print(\"Training finished.\")\n",
    "\n",
    "        # evaluate\n",
    "        train_score = rf_score(rf, X_train, y_train)\n",
    "        val_score = rf_score(rf, X_val, y_val)\n",
    "        #print(\"Accuracy on training set #{}: {}\".format(i+1, train_score))\n",
    "        #print(\"Accuracy on validation set #{}: {}\".format(i+1, val_score))\n",
    "\n",
    "        train_scores.append(train_score)\n",
    "        val_scores.append(val_score)\n",
    "\n",
    "    return train_scores, val_scores"
   ]
  },
  {
   "cell_type": "code",
   "execution_count": 40,
   "metadata": {},
   "outputs": [
    {
     "name": "stdout",
     "output_type": "stream",
     "text": [
      "Best validation score: 0.9154411764705883\n",
      "Best number of trees: 40\n",
      "Best maximum depth: 10\n",
      "(40, 10)\n"
     ]
    }
   ],
   "source": [
    "# Now we need to compute a grid search so that can we can find the optimal pair of hyperparameters.\n",
    "\n",
    "def rf_grid_search(data, num_folds, B_range, max_depth_range, sample_weights=None):\n",
    "    best_score = 0\n",
    "    best_B = 0\n",
    "    best_max_depth = 0\n",
    "    \n",
    "    for B in B_range:\n",
    "        for max_depth in max_depth_range:\n",
    "            train_scores, val_scores = cross_val_evaluate(data, num_folds, B, max_depth, sample_weights)\n",
    "            mean_val_score = np.mean(val_scores)\n",
    "            \n",
    "            if mean_val_score > best_score:\n",
    "                best_score = mean_val_score\n",
    "                best_B = B\n",
    "                best_max_depth = max_depth\n",
    "    \n",
    "    print(\"Best validation score: {}\".format(best_score))\n",
    "    print(\"Best number of trees: {}\".format(best_B))\n",
    "    print(\"Best maximum depth: {}\".format(best_max_depth))\n",
    "    \n",
    "    return best_B, best_max_depth\n",
    "\n",
    "\n",
    "# The increments are large in each of the ranges to reduce computation time.\n",
    "\n",
    "print(rf_grid_search(train_data_rf_clean, 4, np.arange(10, 110, 10) , [2, 4, 6, 8, 10]))"
   ]
  },
  {
   "cell_type": "markdown",
   "metadata": {
    "id": "gaYIvbY1LKVl"
   },
   "source": [
    "2.1.2"
   ]
  },
  {
   "cell_type": "markdown",
   "metadata": {
    "id": "CjkGFGmgJau1"
   },
   "source": [
    "We will use the output of `rf_grid_search` to retrain our data on the training data set. We will then use this model we have trained to predict the classification of the test data set. Then "
   ]
  },
  {
   "cell_type": "code",
   "execution_count": 41,
   "metadata": {},
   "outputs": [
    {
     "name": "stdout",
     "output_type": "stream",
     "text": [
      "Best validation score: 0.9080882352941178\n",
      "Best number of trees: 60\n",
      "Best maximum depth: 10\n"
     ]
    }
   ],
   "source": [
    "X_train_rf = train_data_rf_clean.iloc[:, :13]\n",
    "y_train_rf = train_data_rf_clean.loc[:, \"diabetes\"]\n",
    "\n",
    "X_test_rf = test_data_rf_clean.iloc[:, :13]\n",
    "y_test_rf = test_data_rf_clean.loc[:, \"diabetes\"]\n",
    "\n",
    "n_features_train = int(np.sqrt(X_train_rf.shape[1]))\n",
    "n_features_test = int(np.sqrt(X_test_rf.shape[1]))\n",
    "\n",
    "B, max_depth = rf_grid_search(train_data_rf_clean, 4, np.arange(10, 110, 10), [2, 4, 6, 8, 10])\n",
    "\n",
    "train_forest = train_rf(B, n_features_train, X_train_rf, y_train_rf,  columns_dict, max_depth, sample_weights=None)"
   ]
  },
  {
   "cell_type": "markdown",
   "metadata": {},
   "source": [
    "Now we have to create functions which computes the $\\textit{accuracy}$, $\\textit{precision}$, $\\textit{recall}$ and $\\textit{F-score}$."
   ]
  },
  {
   "cell_type": "code",
   "execution_count": 42,
   "metadata": {},
   "outputs": [
    {
     "name": "stdout",
     "output_type": "stream",
     "text": [
      "0.9316239316239316\n",
      "0.8333333333333334\n",
      "0.7142857142857143\n"
     ]
    }
   ],
   "source": [
    "# We already have accuracy in rf_score so it is the same.\n",
    "\n",
    "def accuracy(rf, X_test, y_test):\n",
    "    \n",
    "    X = X_test.to_numpy()\n",
    "    \n",
    "    y_pred = predict_rf(rf, X)\n",
    "    \n",
    "    num = np.sum(y_pred==y_test.to_numpy())\n",
    "    N = len(y_test.to_numpy())\n",
    "\n",
    "    return num / N\n",
    "\n",
    "# Using the formulae in the notes we can define functions for precision, recall and F score.\n",
    "\n",
    "def precision(rf, X_test, y_test):\n",
    "    \n",
    "    X = X_test.to_numpy()\n",
    "    y = y_test.to_numpy()\n",
    "    y_pred = predict_rf(rf, X)\n",
    "    \n",
    "    TP = np.sum((y_pred==1) & (y==1))\n",
    "    FP = np.sum((y_pred==1) & (y==0))\n",
    "    \n",
    "    return TP / (TP + FP)\n",
    "\n",
    "def recall(rf, X_test, y_test):\n",
    "    \n",
    "    X = X_test.to_numpy()\n",
    "    y = y_test.to_numpy()\n",
    "    y_pred = predict_rf(rf, X)\n",
    "    \n",
    "    TP = np.sum((y_pred==1) & (y==1))\n",
    "    FN = np.sum((y_pred==0) & (y==1))\n",
    "    \n",
    "    return TP / (TP + FN)\n",
    "\n",
    "def F_score(rf, X_test, y_test):\n",
    "    \n",
    "    X = X_test.to_numpy()\n",
    "    y = y_test.to_numpy()\n",
    "    y_pred = predict_rf(rf, X)\n",
    "    \n",
    "    num = precision(rf, X_test, y_test) * recall(rf, X_test, y_test)\n",
    "    den = precision(rf, X_test, y_test) + recall(rf, X_test, y_test)\n",
    "    \n",
    "    return 2 * num / den\n",
    "\n",
    "print(accuracy(train_forest, X_test_rf, y_test_rf))\n",
    "print(precision(train_forest, X_test_rf, y_test_rf))\n",
    "print(F_score(train_forest, X_test_rf, y_test_rf))"
   ]
  },
  {
   "cell_type": "markdown",
   "metadata": {},
   "source": [
    "The accuracy and precision scores are very high and so the model has a high level of correctness and a low level of false positives. The F-score is reasonably high as well which means that there is a reasonable balance between precision and recall i.e. the model is able to make accurate and complete decisions to a good extent."
   ]
  },
  {
   "cell_type": "markdown",
   "metadata": {},
   "source": [
    "2.1.3"
   ]
  },
  {
   "cell_type": "code",
   "execution_count": 43,
   "metadata": {},
   "outputs": [
    {
     "data": {
      "text/plain": [
       "0    0.838828\n",
       "1    0.161172\n",
       "Name: diabetes, dtype: float64"
      ]
     },
     "execution_count": 43,
     "metadata": {},
     "output_type": "execute_result"
    }
   ],
   "source": [
    "# We print out the frequencies of 0s and 1s in the diabetes column\n",
    "\n",
    "frequencies = train_data_rf_clean[\"diabetes\"].value_counts(normalize=True)\n",
    "frequencies"
   ]
  },
  {
   "cell_type": "markdown",
   "metadata": {},
   "source": [
    "Clearly our data is imbalanced as there are far more cases where the individual doesn't have diabetes than when they do have diabetes."
   ]
  },
  {
   "cell_type": "code",
   "execution_count": 44,
   "metadata": {},
   "outputs": [],
   "source": [
    "# Now we have to compute the weights in such a way that the frequencies of zeros and ones are equal in weighting.\n",
    "# This can be achieved by doing 0.5 / frequency\n",
    "\n",
    "weights = np.zeros(len(y_train_rf))\n",
    "y = y_train_rf.to_numpy()\n",
    "\n",
    "zero_ind = (y==0)\n",
    "\n",
    "# If we do 0.5 / frequency we give equal importance to both classes.\n",
    "weights[zero_ind] = 0.5 / frequencies[0]\n",
    "weights[~zero_ind] = 0.5 / frequencies[1]"
   ]
  },
  {
   "cell_type": "code",
   "execution_count": 45,
   "metadata": {
    "scrolled": true
   },
   "outputs": [
    {
     "name": "stdout",
     "output_type": "stream",
     "text": [
      "Best validation score: 0.9080882352941176\n",
      "Best number of trees: 80\n",
      "Best maximum depth: 6\n",
      "(80, 6)\n",
      "0.9230769230769231\n",
      "0.7692307692307693\n",
      "0.6896551724137931\n",
      "0.16117216117216118\n",
      "0.16117216117216118\n"
     ]
    }
   ],
   "source": [
    "# Now we train the data using the weights we have just calculated. Then repeat task 2.1.1 and 2.1.2\n",
    "\n",
    "train_forest_weighted = train_rf(B, n_features_train, X_train_rf, y_train_rf, columns_dict, max_depth, \n",
    "                                 sample_weights=weights)\n",
    "\n",
    "# Task 2.1.1(i)\n",
    "print(rf_grid_search(train_data_rf_clean, 4, np.arange(10, 110, 10), [2, 4, 6, 8, 10], weights))\n",
    "\n",
    "# Task 2.1.1(ii)\n",
    "print(accuracy(train_forest_weighted, X_test_rf, y_test_rf))\n",
    "print(precision(train_forest_weighted, X_test_rf, y_test_rf))\n",
    "print(F_score(train_forest_weighted, X_test_rf, y_test_rf))"
   ]
  },
  {
   "cell_type": "code",
   "execution_count": 46,
   "metadata": {},
   "outputs": [],
   "source": [
    "# First we need to replace the 0s and 1s in the predicted y with the probability of being in the positive class.\n",
    "# To do this we edit our predict_rf function such that instead of classifying a row of data,\n",
    "# we calculate the probability of assigning that row of data to the positive class 1.\n",
    "\n",
    "def class_prob(rf, X):\n",
    "    \"\"\"\n",
    "    calculate the probability of being in a class for X.\n",
    "    Args:\n",
    "      rf: A trained random forest through train_rf function.\n",
    "      X: numpy_array testing sample features, of shape (N, D).\n",
    "    Returns:\n",
    "      (np.array): probability of being in the positive class for each sample, of shape (N,).\n",
    "    \"\"\"\n",
    "\n",
    "    def aggregate(decisions):\n",
    "        # count is a dictionary\n",
    "        count = defaultdict(int)\n",
    "        for decision in decisions:\n",
    "            count[decision] += 1\n",
    "            \n",
    "        # we get positive class using count[1]\n",
    "        return count[1] / len(decisions)\n",
    "\n",
    "    if len(X.shape) == 1:\n",
    "        return aggregate([classify(tree, X) for tree in rf])\n",
    "    else:\n",
    "        return np.array([aggregate([classify(tree, x) for tree in rf]) for x in X])"
   ]
  },
  {
   "cell_type": "code",
   "execution_count": 47,
   "metadata": {},
   "outputs": [
    {
     "name": "stdout",
     "output_type": "stream",
     "text": [
      "0.927289603960396\n"
     ]
    },
    {
     "data": {
      "image/png": "[encoded data removed]",
      "text/plain": [
       "<Figure size 1200x800 with 1 Axes>"
      ]
     },
     "metadata": {},
     "output_type": "display_data"
    }
   ],
   "source": [
    "def roc_curve(y_true, y_score):\n",
    "    \"\"\"\n",
    "    Arguments:\n",
    "    y_true: ground truth labels with size (n, )\n",
    "    y_score: the probability vector (n, )\n",
    "\n",
    "    Returns:\n",
    "    auc: area under the curve (AUC).\n",
    "    tpr_l: a list of true positive rate (TPR) values for each scanned threshold.\n",
    "    fpr_l: a list of false positive rate (FPR) values for each scanned threshold.\n",
    "    thresholds: the scanned thresholds sorted descendingly.\n",
    "    \"\"\"\n",
    "    # List of distinct values in y_score, sorted descendingly.\n",
    "    thresholds = reversed(sorted(set(y_score.flatten())))\n",
    "    tpr_l, fpr_l = [], []\n",
    "\n",
    "    for threshold in thresholds:\n",
    "    # Apply thresholding\n",
    "        y_thresholded = (y_score >= threshold)\n",
    "\n",
    "        # true positives count\n",
    "        tp = np.sum(y_true & y_thresholded)\n",
    "        # true negatives count\n",
    "        tn = np.sum((~y_true) & (~y_thresholded))\n",
    "        # false positives count\n",
    "        fp = np.sum((~y_true) & y_thresholded)\n",
    "        # false negatives count\n",
    "        fn = np.sum(y_true & (~y_thresholded))\n",
    "\n",
    "        # true positive rate\n",
    "        tpr =  tp / (tp + fn)\n",
    "        # false positive rate\n",
    "        fpr =  fp / (tn + fp)\n",
    "\n",
    "        tpr_l.append(tpr)\n",
    "        fpr_l.append(fpr)\n",
    "\n",
    "    # Compute AUC using Trapezoidal rule\n",
    "    auc = np.trapz(tpr_l, fpr_l)\n",
    "    return auc, tpr_l, fpr_l, thresholds\n",
    "\n",
    "# unweighted\n",
    "y_score = class_prob(train_forest, X_test_rf.to_numpy())\n",
    "auc, tpr, fpr, th = roc_curve(y_test_rf, y_score)\n",
    "\n",
    "print(auc)\n",
    "plt.figure(figsize=(12,8))\n",
    "plt.title(f\"Receiver Operating Curve\", size=20)\n",
    "plt.plot(fpr, tpr, 'b', label = f'AUC = {auc:0.2f}')\n",
    "plt.legend(loc = 'lower right')\n",
    "plt.plot([0, 1], [0, 1],'r--')\n",
    "plt.xlim([0, 1])\n",
    "plt.ylim([0, 1])\n",
    "plt.ylabel('TPR', size=20)\n",
    "plt.xlabel('FPR', size=20)\n",
    "plt.show()"
   ]
  },
  {
   "cell_type": "code",
   "execution_count": 48,
   "metadata": {},
   "outputs": [
    {
     "name": "stdout",
     "output_type": "stream",
     "text": [
      "0.948019801980198\n"
     ]
    },
    {
     "data": {
      "image/png": "[encoded data removed]",
      "text/plain": [
       "<Figure size 1200x800 with 1 Axes>"
      ]
     },
     "metadata": {},
     "output_type": "display_data"
    }
   ],
   "source": [
    "# weighted\n",
    "y_score_w = class_prob(train_forest_weighted, X_test_rf.to_numpy())\n",
    "auc, tpr, fpr, th = roc_curve(y_test_rf, y_score_w)\n",
    "\n",
    "print(auc)\n",
    "plt.figure(figsize=(12,8))\n",
    "plt.title(f\"Receiver Operating Curve\", size=20)\n",
    "plt.plot(fpr, tpr, 'b', label = f'AUC = {auc:0.2f}')\n",
    "plt.legend(loc = 'lower right')\n",
    "plt.plot([0, 1], [0, 1],'r--')\n",
    "plt.xlim([0, 1])\n",
    "plt.ylim([0, 1])\n",
    "plt.ylabel('TPR', size=20)\n",
    "plt.xlabel('FPR', size=20)\n",
    "plt.show()"
   ]
  },
  {
   "cell_type": "code",
   "execution_count": 49,
   "metadata": {},
   "outputs": [
    {
     "name": "stdout",
     "output_type": "stream",
     "text": [
      "0.6208830782209107\n"
     ]
    },
    {
     "data": {
      "image/png": "[encoded data removed]",
      "text/plain": [
       "<Figure size 1200x800 with 1 Axes>"
      ]
     },
     "metadata": {},
     "output_type": "display_data"
    }
   ],
   "source": [
    "# Now we need to calculate the precision-recall curve.\n",
    "# For convenience we redifine our precision and recall functions\n",
    "\n",
    "def precision_pr(y_score, y_test):\n",
    "    \n",
    "    TP = np.sum((y_score==1) & (y_test==1))\n",
    "    FP = np.sum((y_score==1) & (y_test==0))\n",
    "    \n",
    "    return TP / (TP + FP)\n",
    "\n",
    "def recall_pr(y_score, y_test):\n",
    "    \n",
    "    TP = np.sum((y_score==1) & (y_test==1))\n",
    "    FN = np.sum((y_score==0) & (y_test==1))\n",
    "    \n",
    "    return TP / (TP + FN)\n",
    "\n",
    "# Note we essentially copy the roc_curve function but calculate precision and recall instead.\n",
    "\n",
    "def pr_curve(rf, X, y_true):\n",
    "    \n",
    "    y_pred = class_prob(rf, X.to_numpy())\n",
    "    precision_list = []\n",
    "    recall_list = []\n",
    "    \n",
    "    # We want the values in descending order\n",
    "    thresholds = reversed(sorted(set(y_pred.flatten())))\n",
    "    \n",
    "    for threshold in thresholds:\n",
    "        y_score = np.where(y_pred >= threshold, 1, 0)\n",
    "        \n",
    "        pr = precision_pr(y_score, y_true)\n",
    "        re = recall_pr(y_score, y_true)\n",
    "        \n",
    "        precision_list.append(pr)\n",
    "        recall_list.append(re)\n",
    "    \n",
    "    aupr = np.trapz(precision_list, recall_list)\n",
    "    \n",
    "    return aupr, precision_list, recall_list\n",
    "\n",
    "# unweighted\n",
    "aupr, pr_l, re_l = pr_curve(train_forest, X_test_rf, y_test_rf)\n",
    "print(aupr)\n",
    "plt.figure(figsize=(12,8))\n",
    "plt.title(f\"Precision Recall Curve\", size=20)\n",
    "plt.plot(re_l, pr_l, 'b', label = f'AUPR = {aupr:0.2f}')\n",
    "plt.legend(loc = 'lower right')\n",
    "plt.plot([0, 1], [1, 0],'r--')\n",
    "plt.xlim([0, 1])\n",
    "plt.ylim([0, 1])\n",
    "plt.ylabel('Precision', size=20)\n",
    "plt.xlabel(\"Recall\", size=20)\n",
    "plt.show()"
   ]
  },
  {
   "cell_type": "code",
   "execution_count": 50,
   "metadata": {},
   "outputs": [
    {
     "name": "stdout",
     "output_type": "stream",
     "text": [
      "0.9772727272727273\n"
     ]
    },
    {
     "data": {
      "image/png": "[encoded data removed]",
      "text/plain": [
       "<Figure size 1200x800 with 1 Axes>"
      ]
     },
     "metadata": {},
     "output_type": "display_data"
    }
   ],
   "source": [
    "# weighted\n",
    "\n",
    "aupr_w, pr_l_w, re_l_w = pr_curve(train_forest_weighted, X_train_rf, y_train_rf)\n",
    "\n",
    "print(aupr_w)\n",
    "plt.figure(figsize=(12,8))\n",
    "plt.title(f\"Precision Recall Curve\", size=20)\n",
    "plt.plot(re_l_w, pr_l_w, 'b', label = f'AUPR = {aupr_w:0.2f}')\n",
    "plt.legend(loc = 'lower right')\n",
    "plt.plot([0, 1], [1, 0],'r--')\n",
    "plt.xlim([0, 1])\n",
    "plt.ylim([0, 1])\n",
    "plt.ylabel('Precision', size=20)\n",
    "plt.xlabel(\"Recall\", size=20)\n",
    "plt.show()"
   ]
  },
  {
   "cell_type": "markdown",
   "metadata": {},
   "source": [
    "It is clear to see that in both cases (the ROC curve and the Precision Recall Curve) the weighted bootstrap random forest classifier performs much better than the standard random forest classifier on the test data set. Both curves are more right angular and so better follow the ideal curve. Plus, the area under both curves are larger in the weighted case - which further reinforce our conclusion that the weighted bootstrap random forest classifier is better."
   ]
  },
  {
   "cell_type": "markdown",
   "metadata": {
    "id": "Apzf5DJeJa_h"
   },
   "source": [
    "#### 2.2\tSupport Vector Machine (SVM) (30 marks)\n",
    "2.2.1"
   ]
  },
  {
   "cell_type": "code",
   "execution_count": 51,
   "metadata": {
    "id": "xRKvys8fJewE"
   },
   "outputs": [],
   "source": [
    "# We use the same data set that we have cleaned in the random forest task. \n",
    "# Except it is convenient to change the zeros to negative ones in this case.\n",
    "\n",
    "train_data_svm_clean = train_data_rf_clean\n",
    "test_data_svm_clean = test_data_rf_clean\n",
    "\n",
    "X_train_svm = standardise(train_data_svm_clean.iloc[:, :13].to_numpy())\n",
    "y_train_svm = train_data_svm_clean.loc[:, \"diabetes\"].to_numpy().astype(float)\n",
    "\n",
    "# We need to add a column of ones at the end of X to account for the intercept.\n",
    "X_train_svm = np.hstack((X_train_svm, np.ones((len(X_train_svm),1)) ))\n",
    "y_train_svm[y_train_svm==0] = -1.0\n",
    "\n",
    "X_test_svm = standardise(test_data_svm_clean.iloc[:, :13].to_numpy())\n",
    "X_test_svm = np.hstack((X_test_svm, np.ones((len(X_test_svm),1)) ))  \n",
    "y_test_svm = test_data_svm_clean.loc[:, \"diabetes\"].to_numpy().astype(float)\n",
    "\n",
    "y_test_svm[y_test_svm==0] = -1.0"
   ]
  },
  {
   "cell_type": "markdown",
   "metadata": {},
   "source": [
    "Now that we have our dataset we can train our SVM classifier by minimising the hinge loss function which we derived in the notes as being: \n",
    "\n",
    "$$\n",
    "\\mathcal L (\\boldsymbol w) = \\frac{1}{2} \\| \\boldsymbol w \\|^2 + \\lambda \\sum_{i=1}^n \\max \\bigg( 0, 1-y_i (x^{(i)} \\cdot \\boldsymbol w  + b) \\bigg) \\, .\n",
    "$$\n",
    "\n",
    "We will aim to minimise this using stochastic gradient descent. So, we need to define functions just as we did in the problem sheet."
   ]
  },
  {
   "cell_type": "code",
   "execution_count": 79,
   "metadata": {},
   "outputs": [],
   "source": [
    "# w are the weights, and lam is the hardness parameter which we will fine tune later on.\n",
    "\n",
    "def compute_cost(w, X, y, lam=1e5):\n",
    "    n = X.shape[0]\n",
    "    distances = 1 - y * (X @ w)\n",
    "    distances[distances < 0] = 0\n",
    "    hinge = lam * distances.mean()\n",
    "\n",
    "    # calculate cost\n",
    "    return 0.5 * np.dot(w, w) + hinge\n",
    "\n",
    "# Calculate gradient of cost, in batches to save computational time and effort.\n",
    "\n",
    "def calculate_cost_gradient(w, X_batch, y_batch, lam=1e6):\n",
    "    # if only one example is passed\n",
    "    if type(y_batch) == np.float64:\n",
    "        y_batch = np.asarray([y_batch])\n",
    "        X_batch = np.asarray([X_batch])  # gives multidimensional array\n",
    "\n",
    "    distance = 1 - (y_batch * (X_batch @ w))\n",
    "    dw = np.zeros(len(w))\n",
    "\n",
    "    we = w.copy() # So as not to overwrite w\n",
    "    we[-1] = 0 # So as not to have b in its derivative when adding the weights in di\n",
    "\n",
    "    for ind, d in enumerate(distance):\n",
    "        if max(0, d)==0:\n",
    "            di = we # derivative of first term\n",
    "        else:\n",
    "            di = we - (lam * y_batch[ind] * X_batch[ind])\n",
    "        dw += di\n",
    "\n",
    "    return dw/len(y_batch)  # average"
   ]
  },
  {
   "cell_type": "markdown",
   "metadata": {},
   "source": [
    "Now we can perform SGD on the weights. This takes the form:\n",
    "\n",
    "$$\n",
    "\\boldsymbol w = \\boldsymbol w - \\alpha \\frac{\\partial \\mathcal L}{\\partial \\boldsymbol w}\n",
    "$$\n",
    "\n",
    "where $\\alpha$ is the learning rate. Once we have the weights we can predict the class of $\\hat{y}$ by checking the sign of $x_{in} \\cdot w + b$."
   ]
  },
  {
   "cell_type": "code",
   "execution_count": 80,
   "metadata": {},
   "outputs": [],
   "source": [
    "# This function performs the gradient descent formula as discussed above and returns the optimal vector of weights.\n",
    "\n",
    "def sgd(X, y, max_iterations=2000, stop_criterion=0.01, learning_rate=1e-5, lam=1e6, print_outcome=False):\n",
    "  \n",
    "    # initialise zero weights\n",
    "    weights = np.zeros(X.shape[1])\n",
    "    nth = 0\n",
    "    \n",
    "    # initialise starting cost as infinity\n",
    "    prev_cost = np.inf\n",
    "  \n",
    "  \n",
    "    # stochastic gradient descent\n",
    "    indices = np.arange(len(y))\n",
    "\n",
    "    for iteration in range(1, max_iterations):\n",
    "    # shuffle to prevent repeating update cycles\n",
    "        np.random.shuffle(indices)\n",
    "        X, y = X[indices], y[indices]\n",
    "    \n",
    "        for xi, yi in zip(X, y):\n",
    "            descent = calculate_cost_gradient(weights, xi, yi, lam)\n",
    "            weights = weights - (learning_rate * descent)\n",
    "\n",
    "        # convergence check on 2^n'th iteration\n",
    "        if iteration==2**nth or iteration==max_iterations-1:\n",
    "            # compute cost\n",
    "            cost = compute_cost(weights, X, y, lam)\n",
    "            \n",
    "            if print_outcome:\n",
    "                print(\"Iteration is: {}, Cost is: {}\".format(iteration, cost))\n",
    "              \n",
    "            # stop criterion\n",
    "            if abs(prev_cost - cost) < stop_criterion * prev_cost:\n",
    "                return weights\n",
    "        \n",
    "    prev_cost = cost\n",
    "    nth += 1\n",
    "  \n",
    "    return weights"
   ]
  },
  {
   "cell_type": "code",
   "execution_count": 81,
   "metadata": {},
   "outputs": [],
   "source": [
    "# Find the predicted values and create a new accuracy measure which we will use to fine tune the hyperparameter.\n",
    "\n",
    "def accuracy_svm(w, X, y):\n",
    "    y_pred = np.sign(X @ w)\n",
    "    return np.mean(y_pred == y)"
   ]
  },
  {
   "cell_type": "markdown",
   "metadata": {},
   "source": [
    "Now as usual we conduct a T-fold cross-validation search to fine tune the hyperparameter, in this case the hardness parameter lambda."
   ]
  },
  {
   "cell_type": "code",
   "execution_count": 82,
   "metadata": {},
   "outputs": [
    {
     "name": "stdout",
     "output_type": "stream",
     "text": [
      "([0.9121951219512195, 0.8439024390243902, 0.8926829268292683, 0.9024390243902439], [0.9264705882352942, 0.8676470588235294, 0.75, 0.8529411764705882])\n"
     ]
    }
   ],
   "source": [
    "# We define cross_val_svm which in which we call cross_val_split to get the fold indexes.\n",
    "\n",
    "def cross_val_svm(data, num_folds, lam):\n",
    "    folds = cross_val_split(data.shape[0], num_folds)\n",
    "\n",
    "    train_scores = []\n",
    "    val_scores = []\n",
    "\n",
    "    for i in range(len(folds)):\n",
    "        #print('Fold', i+1)\n",
    "\n",
    "        val_indices = folds[i]\n",
    "        # define the training set\n",
    "        train_indices = list(set(range(data.shape[0])) - set(val_indices))\n",
    "\n",
    "        X_train = standardise(data[train_indices,  :-1])\n",
    "        y_train = data[train_indices, -1]\n",
    "        y_train[y_train == 0] = -1.0\n",
    "\n",
    "        # define the validation set\n",
    "        X_val = standardise(data[val_indices,  :-1])\n",
    "        y_val = data[val_indices, -1] \n",
    "        y_val[y_val == 0] = -1.0\n",
    "\n",
    "        # insert 1 in every row for intercept b\n",
    "        X_train = np.hstack((X_train, np.ones((len(X_train),1)) ))\n",
    "        X_val = np.hstack((X_val, np.ones((len(X_val),1)) ))  \n",
    "\n",
    "        # train the model\n",
    "        w = sgd(X_train, y_train, max_iterations=1025, stop_criterion=0.01, lam=lam, learning_rate=1e-5)\n",
    "        #print(\"Training finished.\")\n",
    "\n",
    "        # evaluate\n",
    "        train_score = accuracy_svm(w, X_train, y_train)\n",
    "        val_score = accuracy_svm(w, X_val, y_val)\n",
    "        #print(\"Accuracy on training set #{}: {}\".format(i+1, train_score))\n",
    "        #print(\"Accuracy on validation set #{}: {}\".format(i+1, val_score))\n",
    "\n",
    "        train_scores.append(train_score)\n",
    "        val_scores.append(val_score)\n",
    "\n",
    "    return train_scores, val_scores\n",
    "\n",
    "print(cross_val_svm(train_data_svm_clean.to_numpy(), 4, 1e6))"
   ]
  },
  {
   "cell_type": "code",
   "execution_count": 83,
   "metadata": {},
   "outputs": [],
   "source": [
    "# Now we do a grid search to find the best lambda and store all the MSE's in an array called lam_arr.\n",
    "\n",
    "def svm_grid_search(data, num_folds, lam_range):\n",
    "    \n",
    "    best_lam_score = 0\n",
    "    best_lam = 0\n",
    "    lam_arr = []\n",
    "    \n",
    "    for lam in lam_range:\n",
    "        lam_score = np.mean(cross_val_svm(data, num_folds, lam)[1])\n",
    "        lam_arr.append(lam_score)\n",
    "        if lam_score > best_lam_score:\n",
    "            best_lam_score, best_lam = lam_score, lam\n",
    "            \n",
    "    \n",
    "    print(\"The best lambda is {} which gives us an accuracy of {}\".format(best_lam, best_lam_score))\n",
    "    \n",
    "    return best_lam, lam_arr"
   ]
  },
  {
   "cell_type": "code",
   "execution_count": 84,
   "metadata": {},
   "outputs": [
    {
     "name": "stdout",
     "output_type": "stream",
     "text": [
      "The best lambda is 25000 which gives us an accuracy of 0.9044117647058824\n"
     ]
    },
    {
     "data": {
      "image/png": "[encoded data removed]",
      "text/plain": [
       "<Figure size 640x480 with 1 Axes>"
      ]
     },
     "metadata": {},
     "output_type": "display_data"
    }
   ],
   "source": [
    "# Let's plot our results.\n",
    "lam_arr = svm_grid_search(train_data_svm_clean.to_numpy(), 4, np.arange(5000, 55000, 5000))[1]\n",
    "lam_range = np.arange(5000, 55000, 5000)\n",
    "plt.plot(lam_range, lam_arr)\n",
    "plt.title(\"Plot of how the Average Accuracy changes with Lambda\")\n",
    "plt.ylabel('Average Accuracy')\n",
    "plt.xlabel(\"Lambda\")\n",
    "plt.show()"
   ]
  },
  {
   "cell_type": "markdown",
   "metadata": {},
   "source": [
    "If $\\lambda$ is set to a very large value, we will have a more complex decision boundary and the SVM will prioritize classifying every training example correctly. This can lead to overfitting, and thus poor generalization. On the other hand, setting $\\lambda$ to a very small value will result in a wider margin and a simpler decision boundary. This can cause underfitting, where the model is not complex enough to capture the underlying patterns in the data."
   ]
  },
  {
   "cell_type": "markdown",
   "metadata": {
    "id": "UdwSG2udLRH6"
   },
   "source": [
    "2.2.2"
   ]
  },
  {
   "cell_type": "markdown",
   "metadata": {},
   "source": [
    "To calculate the cosine of the angle between the hyperplanes, we can calculate the angle between the cosines of the weights corresponding to each hyperplane. Because they are normal to the hyperplane. Below, we create a function called `cosine` which puts the weights of each lambda from $\\textbf{2.2.1}$ into an array. It then calculates the cosines between them using the formula relating the dot product and vector norms and finally stores them in a matrix. We can use this matrix to plot a heatmap."
   ]
  },
  {
   "cell_type": "code",
   "execution_count": 85,
   "metadata": {
    "id": "QHn13w3VJe2V"
   },
   "outputs": [
    {
     "data": {
      "image/png": "[encoded data removed]",
      "text/plain": [
       "<Figure size 640x480 with 2 Axes>"
      ]
     },
     "metadata": {},
     "output_type": "display_data"
    }
   ],
   "source": [
    "def cosine(X, y, lam_range):\n",
    "    \n",
    "    n_lam = len(lam_range)\n",
    "    \n",
    "    # We initialise with ones because the diagonals of this matrix will be one.\n",
    "    # The angle between a hyperplane and itself is 0!\n",
    "    cosine_mat = np.ones((n_lam, n_lam))\n",
    "    \n",
    "    # create weights matrix\n",
    "    weights = np.zeros((n_lam, X.shape[1]))\n",
    "    for i, lam in enumerate(lam_range):\n",
    "        weights[i] = sgd(X, y, lam=lam)\n",
    "    \n",
    "    # compute cosine similarities\n",
    "    norms = np.linalg.norm(weights, axis=1)\n",
    "    norms_mat = np.outer(norms, norms)\n",
    "    dot_products = np.matmul(weights, weights.T)\n",
    "    \n",
    "    # What we are doing here is changing all the non-diagonal entries in the cosine matrix\n",
    "    cosine_mat[~np.eye(n_lam, dtype=bool)] = dot_products[~np.eye(n_lam, dtype=bool)] / norms_mat[~np.eye(n_lam, dtype=bool)]\n",
    "    \n",
    "    return cosine_mat\n",
    "\n",
    "\n",
    "cosine_mat = cosine(X_train_svm, y_train_svm, np.arange(5000, 55000, 5000))\n",
    "heatmap = sns.heatmap(cosine_mat, square=True, cmap='coolwarm')\n",
    "heatmap.set_title(\"Heatmap of the Cosine of Angles between Hyperplanes\")\n",
    "heatmap.set_ylabel(\"Colorbar label\")\n",
    "\n",
    "plt.show()\n",
    "\n"
   ]
  },
  {
   "cell_type": "markdown",
   "metadata": {},
   "source": [
    "The general trend is that as the difference between the lambdas increases the cosine similarity decreases. There are exceptions to this trend but if we tested a larger range of lambdas the relationship will hold better."
   ]
  },
  {
   "cell_type": "markdown",
   "metadata": {
    "id": "-Da22_8mLR-w"
   },
   "source": [
    "2.2.3"
   ]
  },
  {
   "cell_type": "code",
   "execution_count": 91,
   "metadata": {
    "id": "wfcsAet_Je8V"
   },
   "outputs": [
    {
     "name": "stdout",
     "output_type": "stream",
     "text": [
      "0.9401709401709402\n",
      "0.7647058823529411\n",
      "0.787878787878788\n"
     ]
    }
   ],
   "source": [
    "# We have to define precision_svm, recall_svm and F-score svm like we did for random forests.\n",
    "\n",
    "def precision_svm(w, X, y):\n",
    "\n",
    "    y_pred = np.sign(X @ w)\n",
    "    \n",
    "    TP = np.sum((y_pred==1.0) & (y==1.0))\n",
    "    FP = np.sum((y_pred==1.0) & (y==-1.0))\n",
    "    \n",
    "    return TP / (TP + FP)\n",
    "\n",
    "def recall_svm(w, X, y):\n",
    "    \n",
    "    y_pred = np.sign(X @ w)\n",
    "    \n",
    "    TP = np.sum((y_pred==1.0) & (y==1.0))\n",
    "    FN = np.sum((y_pred==-1.0) & (y==1.0))\n",
    "    \n",
    "    return TP / (TP + FN)\n",
    "\n",
    "def F_score_svm(w, X, y):\n",
    "    \n",
    "    num = precision_svm(w, X, y) * recall_svm(w, X, y)\n",
    "    den = precision_svm(w, X, y) + recall_svm(w, X, y)\n",
    "    \n",
    "    return 2 * num / den\n",
    "\n",
    "weights = sgd(X_train_svm, y_train_svm, lam=25000)\n",
    "print(accuracy_svm(weights, X_test_svm, y_test_svm))\n",
    "print(precision_svm(weights, X_test_svm, y_test_svm))\n",
    "print(F_score_svm(weights, X_test_svm, y_test_svm))"
   ]
  },
  {
   "cell_type": "markdown",
   "metadata": {
    "id": "kTNW66ufLS2B"
   },
   "source": [
    "2.2.4"
   ]
  },
  {
   "cell_type": "code",
   "execution_count": 87,
   "metadata": {
    "id": "uw6jwGWKJfCd"
   },
   "outputs": [],
   "source": [
    "# Firstly we need a function to calculate the sigmoid kernel matrix between two matrices. \n",
    "\n",
    "\n",
    "def kernel_matrix(X1, X2, sigma=1):\n",
    "    \"\"\"\n",
    "    Computes the kernel matrix for the hyperbolic tangent function between two matrices X1 and X2.\n",
    "\n",
    "    Parameters:\n",
    "        X1 (numpy.ndarray): A matrix of shape (n_samples_X1, n_features).\n",
    "        X2 (numpy.ndarray): A matrix of shape (n_samples_X2, n_features).\n",
    "        sigma (float): A parameter of the hyperbolic tangent function.\n",
    "\n",
    "    Returns:\n",
    "        numpy.ndarray: A kernel matrix of shape (n_samples_X1, n_samples_X2).\n",
    "    \"\"\"\n",
    "\n",
    "    n1, m1 = X1.shape\n",
    "    n2, m2 = X2.shape\n",
    "    kernel = np.zeros((n1, n2))\n",
    "\n",
    "    # Compute the kernel matrix using the hyperbolic tangent function #\n",
    "    for i in range(n2):\n",
    "        \n",
    "        dot_product = np.dot(X1, X2[i, :])\n",
    "        kernel[:, i] = np.tanh(sigma * dot_product + 1)\n",
    "\n",
    "\n",
    "    return kernel"
   ]
  },
  {
   "cell_type": "code",
   "execution_count": 88,
   "metadata": {},
   "outputs": [],
   "source": [
    "# Now we compute the cost and the gradient of the cost for the kernelised version.\n",
    "\n",
    "def compute_cost_kernel(u, K, y, lam=1e3,intercept=0):\n",
    "    \n",
    "    distances = 1 - (y)*(K@u + intercept) # we keep the intercept separate\n",
    "    distances[distances < 0] = 0  # equivalent to max(0, distance)\n",
    "    hinge = lam * distances.mean()\n",
    "\n",
    "    # calculate cost\n",
    "    return 0.5 * np.dot(u, K@u) + hinge\n",
    "\n",
    "# In this function we want to find the gradient with respect to the intercept as well.\n",
    "# So we initialise the intercept at zero and take away lam * y_batch[ind], whenever the distance is positive.\n",
    "\n",
    "def calculate_cost_gradient_kernel(u, K_batch, y_batch, lam=1e3,intercept=0):\n",
    "\n",
    "    # if only one example is passed\n",
    "    if type(y_batch) == np.float64 or type(y_batch) == np.int32:\n",
    "        y_batch = np.asarray([y_batch])\n",
    "        K_batch = np.asarray([K_batch])  # gives multidimensional array\n",
    "    \n",
    "    distance = 1 - (y_batch * (K_batch @ u + intercept))\n",
    "    dw = np.zeros(len(u))\n",
    "    d_int = 0\n",
    "\n",
    "    # define the gradient with the hinge loss #\n",
    "    for ind, d in enumerate(distance):\n",
    "        if max(0, d)==0:\n",
    "            di = K_batch@u\n",
    "            di_int = 0\n",
    "        else:\n",
    "            di = K_batch@u - (lam * y_batch[ind] * K_batch[ind])\n",
    "            di_int = - lam * y_batch[ind]\n",
    "        \n",
    "        dw += di\n",
    "        d_int += di_int\n",
    "\n",
    "    return dw/len(y_batch), d_int/len(y_batch)"
   ]
  },
  {
   "cell_type": "code",
   "execution_count": 89,
   "metadata": {},
   "outputs": [],
   "source": [
    "# Now we can perform gradient descent.\n",
    "\n",
    "def sgd_kernel(K, y, batch_size=32, max_iterations=4000, stop_criterion=0.001, learning_rate=1e-4, lam=1e3, print_outcome=False):\n",
    "\n",
    "    # initialise zero u and intercept\n",
    "    u = np.zeros(K.shape[1])\n",
    "    intercept=0\n",
    "    \n",
    "    nth = 0\n",
    "    # initialise starting cost as infinity\n",
    "    prev_cost = np.inf\n",
    "    \n",
    "    # stochastic gradient descent\n",
    "    indices = np.arange(len(y))\n",
    "    for iteration in range(1, max_iterations):\n",
    "        # shuffle to prevent repeating update cycles\n",
    "        np.random.shuffle(indices)\n",
    "        batch_idx = indices[:batch_size]\n",
    "        K_b, y_b = K[batch_idx], y[batch_idx]\n",
    "        \n",
    "        # We have to edit this part of the function so that we can descend down both u and b.\n",
    "        for ki, yi in zip(K_b, y_b):\n",
    "            du, d_int = calculate_cost_gradient_kernel(u, ki, yi, lam, intercept) # <-- SOLUTION\n",
    "            u = u - (learning_rate * du)\n",
    "            intercept = intercept - (learning_rate * d_int)\n",
    "        \n",
    "        # convergence check on 2^n'th iteration\n",
    "        if iteration==2**nth or iteration==max_iterations-1:\n",
    "            # compute cost\n",
    "            cost = compute_cost_kernel(u, K, y, lam, intercept)\n",
    "            if print_outcome:\n",
    "                print(\"Iteration is: {}, Cost is: {}\".format(iteration, cost))\n",
    "            # stop criterion\n",
    "            if abs(prev_cost - cost) < stop_criterion * prev_cost:\n",
    "                return u, intercept\n",
    "            \n",
    "            prev_cost = cost\n",
    "            nth += 1\n",
    "    \n",
    "    return u, intercept"
   ]
  },
  {
   "cell_type": "code",
   "execution_count": 90,
   "metadata": {},
   "outputs": [
    {
     "name": "stdout",
     "output_type": "stream",
     "text": [
      "For sigma = 0.01\n",
      "-0.9753999999999089\n",
      "For sigma = 0.1\n",
      "-0.3452999999999783\n",
      "For sigma = 1\n",
      "-1.9143999999998056\n",
      "For sigma = 2\n",
      "-1.9053999999998066\n"
     ]
    }
   ],
   "source": [
    "lam = 10\n",
    "\n",
    "for sigma in [0.01,0.1,1,2]:\n",
    "    \n",
    "    print('For sigma = ' + str(sigma))\n",
    "    K_train = kernel_matrix(X_train_svm, X_train_svm, sigma)\n",
    "\n",
    "    u,b = sgd_kernel(K_train, y_train_svm, batch_size=128, max_iterations=2000, stop_criterion=0.001, learning_rate=1e-5, lam=lam, print_outcome=False)\n",
    "    \n",
    "    print(b)"
   ]
  },
  {
   "cell_type": "markdown",
   "metadata": {
    "id": "wbZX59MPLT10"
   },
   "source": [
    "2.2.5"
   ]
  },
  {
   "cell_type": "code",
   "execution_count": 78,
   "metadata": {
    "id": "yk40o2p2JfIs"
   },
   "outputs": [
    {
     "name": "stdout",
     "output_type": "stream",
     "text": [
      "For sigma = 0.01\n",
      "Accuracy:0.8632478632478633\n",
      "Precision:nan\n",
      "F-score:nan\n",
      "For sigma = 0.1\n"
     ]
    },
    {
     "name": "stderr",
     "output_type": "stream",
     "text": [
      "/var/folders/5v/4t_gvj7152l67p5xd79r0d3m0000gn/T/ipykernel_57272/4133003935.py:25: RuntimeWarning: invalid value encountered in long_scalars\n",
      "  return TP / (TP + FP)\n"
     ]
    },
    {
     "name": "stdout",
     "output_type": "stream",
     "text": [
      "Accuracy:0.9316239316239316\n",
      "Precision:0.8333333333333334\n",
      "F-score:0.7142857142857143\n",
      "For sigma = 1\n",
      "Accuracy:0.7863247863247863\n",
      "Precision:0.36363636363636365\n",
      "F-score:0.48979591836734687\n",
      "For sigma = 2\n",
      "Accuracy:0.7948717948717948\n",
      "Precision:0.38235294117647056\n",
      "F-score:0.52\n"
     ]
    }
   ],
   "source": [
    "lam = 10\n",
    "\n",
    "for sigma in [0.01,0.1,1,2]:\n",
    "    \n",
    "    print('For sigma = ' + str(sigma))\n",
    "    K_train = kernel_matrix(X_train_svm, X_train_svm, sigma)\n",
    "\n",
    "    u,b = sgd_kernel(K_train, y_train_svm, batch_size=128, max_iterations=2000, stop_criterion=0.001, learning_rate=1e-5, lam=lam, print_outcome=False)\n",
    "    \n",
    "    def accuracy_svm_int(u, X, y, sigma, b):\n",
    "        K_test = kernel_matrix(X, X_train_svm, sigma)\n",
    "\n",
    "        y_pred = np.sign(K_test @ u + b)\n",
    "        return np.mean(y_pred == y)\n",
    "    \n",
    "    def precision_svm_int(u, X, y, sigma, b):\n",
    "        \n",
    "        K_test = kernel_matrix(X, X_train_svm, sigma)\n",
    "\n",
    "        y_pred = np.sign(K_test @ u + b)\n",
    "\n",
    "        TP = np.sum((y_pred==1.0) & (y==1.0))\n",
    "        FP = np.sum((y_pred==1.0) & (y==-1.0))\n",
    "\n",
    "        return TP / (TP + FP)\n",
    "\n",
    "    def recall_svm_int(u, X, y, sigma, b):\n",
    "\n",
    "        K_test = kernel_matrix(X, X_train_svm, sigma)\n",
    "\n",
    "        y_pred = np.sign(K_test @ u + b)\n",
    "\n",
    "        TP = np.sum((y_pred==1.0) & (y==1.0))\n",
    "        FN = np.sum((y_pred==-1.0) & (y==1.0))\n",
    "\n",
    "        return TP / (TP + FN)\n",
    "\n",
    "    def F_score_svm_int(u, X, y, sigma, b):\n",
    "\n",
    "        num = precision_svm_int(u, X, y, sigma, b) * recall_svm_int(u, X, y, sigma, b)\n",
    "        den = precision_svm_int(u, X, y, sigma, b) + recall_svm_int(u, X, y, sigma, b)\n",
    "\n",
    "        return 2 * num / den\n",
    "    \n",
    "    print(\"Accuracy:{}\".format(accuracy_svm_int(u, X_test_svm, y_test_svm, sigma, b)))\n",
    "    print(\"Precision:{}\".format(precision_svm_int(u, X_test_svm, y_test_svm, sigma, b)))\n",
    "    print(\"F-score:{}\".format(F_score_svm_int(u, X_test_svm, y_test_svm, sigma, b)))"
   ]
  },
  {
   "cell_type": "markdown",
   "metadata": {},
   "source": [
    "The precision and F-score are generally lower than before for most $\\sigma$'s. The exception being when $\\sigma = 0.1$ which gives better accuracy, precision and F-scores as the linearised SVM. So we can conclude that the data follow a distribution which is easily separable by the sigmoid kernel function with $\\sigma = 0.1$"
   ]
  },
  {
   "cell_type": "code",
   "execution_count": null,
   "metadata": {},
   "outputs": [],
   "source": []
  }
 ],
 "metadata": {
  "colab": {
   "authorship_tag": "ABX9TyNRIxV7UY7tVkryHpDs3Wuh",
   "provenance": []
  },
  "kernelspec": {
   "display_name": "Python 3 (ipykernel)",
   "language": "python",
   "name": "python3"
  },
  "language_info": {
   "codemirror_mode": {
    "name": "ipython",
    "version": 3
   },
   "file_extension": ".py",
   "mimetype": "text/x-python",
   "name": "python",
   "nbconvert_exporter": "python",
   "pygments_lexer": "ipython3",
   "version": "3.10.9"
  }
 },
 "nbformat": 4,
 "nbformat_minor": 1
}
